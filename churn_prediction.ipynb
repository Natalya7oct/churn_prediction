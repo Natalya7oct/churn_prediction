{
  "cells": [
    {
      "cell_type": "markdown",
      "metadata": {
        "id": "x7lm4SDZ2tIo"
      },
      "source": [
        "## Table of contents\n",
        "\n",
        "* [Part 1. Processing Data](#part1)\n",
        "* [Part 2. Machine Learning](#part2)\n",
        "* [Part 3. Contest](#part3)"
      ]
    },
    {
      "cell_type": "markdown",
      "metadata": {
        "id": "BdrFC3QU2tIq"
      },
      "source": [
        "## Part 1. Processing Data <a id=\"part1\"></a>"
      ]
    },
    {
      "cell_type": "markdown",
      "metadata": {
        "id": "oE8dZQvH2tIr"
      },
      "source": [
        "In this project you will be working with the data of one telecommunication company. You will be solving a churn prediction problem."
      ]
    },
    {
      "cell_type": "markdown",
      "metadata": {
        "id": "PhjCiNuE2tIr"
      },
      "source": [
        "The data for modeling  is in the `train.csv` file."
      ]
    },
    {
      "cell_type": "markdown",
      "metadata": {
        "id": "sJmTnqgO2tIr"
      },
      "source": [
        "**Data description:**"
      ]
    },
    {
      "cell_type": "code",
      "execution_count": null,
      "metadata": {
        "id": "eqzy-RF92tIs"
      },
      "outputs": [],
      "source": [
        "import pandas as pd\n",
        "import numpy as np"
      ]
    },
    {
      "cell_type": "code",
      "source": [
        "from sklearn import preprocessing\n",
        "from sklearn.preprocessing import OrdinalEncoder\n",
        "from sklearn.preprocessing import OneHotEncoder\n",
        "from sklearn.compose import ColumnTransformer"
      ],
      "metadata": {
        "id": "c7hj8jQy17d2"
      },
      "execution_count": null,
      "outputs": []
    },
    {
      "cell_type": "code",
      "source": [
        "import seaborn as sns"
      ],
      "metadata": {
        "id": "zuDZRX5l7w5o"
      },
      "execution_count": null,
      "outputs": []
    },
    {
      "cell_type": "code",
      "source": [
        "from sklearn import metrics"
      ],
      "metadata": {
        "id": "e3Djl1EE988O"
      },
      "execution_count": null,
      "outputs": []
    },
    {
      "cell_type": "code",
      "source": [
        "from sklearn.dummy import DummyClassifier"
      ],
      "metadata": {
        "id": "JOZ0eqdO_FPa"
      },
      "execution_count": null,
      "outputs": []
    },
    {
      "cell_type": "code",
      "execution_count": null,
      "metadata": {
        "id": "4BzQSv1M2tIs"
      },
      "outputs": [],
      "source": [
        "pd.set_option('display.max_columns', 25)\n",
        "pd.set_option('display.max_colwidth', None)"
      ]
    },
    {
      "cell_type": "markdown",
      "metadata": {
        "id": "IFw7LJ572tIu"
      },
      "source": [
        "### Task 1\n",
        "\n",
        "Load dataset from the file. Check the size of the dataset and the feature space. Are there missing values?"
      ]
    },
    {
      "cell_type": "code",
      "execution_count": null,
      "metadata": {
        "collapsed": true,
        "id": "4GltRBVc2tIu",
        "colab": {
          "base_uri": "https://localhost:8080/"
        },
        "outputId": "24c5fdb9-f787-40a2-cc0b-72caf154b217"
      },
      "outputs": [
        {
          "output_type": "stream",
          "name": "stdout",
          "text": [
            "(2499, 23)\n",
            "<class 'pandas.core.frame.DataFrame'>\n",
            "RangeIndex: 2499 entries, 0 to 2498\n",
            "Data columns (total 23 columns):\n",
            " #   Column                  Non-Null Count  Dtype  \n",
            "---  ------                  --------------  -----  \n",
            " 0   ID                      2499 non-null   int64  \n",
            " 1   Sex                     2499 non-null   object \n",
            " 2   Age                     1757 non-null   float64\n",
            " 3   State                   2499 non-null   object \n",
            " 4   Account length          2499 non-null   int64  \n",
            " 5   Phone number            2499 non-null   object \n",
            " 6   Plans                   2428 non-null   object \n",
            " 7   Number vmail messages   2499 non-null   int64  \n",
            " 8   Total day minutes       2499 non-null   object \n",
            " 9   Total day calls         2499 non-null   object \n",
            " 10  Total day charge        2499 non-null   float64\n",
            " 11  Total eve minutes       2499 non-null   float64\n",
            " 12  Total eve calls         2499 non-null   float64\n",
            " 13  Total eve charge        2499 non-null   float64\n",
            " 14  Total night minutes     2499 non-null   object \n",
            " 15  Total night calls       2499 non-null   float64\n",
            " 16  Total night charge      2499 non-null   float64\n",
            " 17  Total intl minutes      2499 non-null   object \n",
            " 18  Total intl calls        2499 non-null   float64\n",
            " 19  Total intl charge       2499 non-null   float64\n",
            " 20  Total charge            2499 non-null   object \n",
            " 21  Customer service calls  2499 non-null   object \n",
            " 22  Churn                   2499 non-null   int64  \n",
            "dtypes: float64(9), int64(4), object(10)\n",
            "memory usage: 449.2+ KB\n",
            "None\n"
          ]
        }
      ],
      "source": [
        "train = pd.read_csv('train.csv', sep=';')\n",
        "print(train.shape)\n",
        "print(train.info())"
      ]
    },
    {
      "cell_type": "code",
      "source": [
        "train.describe()"
      ],
      "metadata": {
        "id": "4tnz5RTDco0j",
        "colab": {
          "base_uri": "https://localhost:8080/",
          "height": 362
        },
        "outputId": "61b4ba8f-fe7d-46de-e48c-927e6fc3e618"
      },
      "execution_count": null,
      "outputs": [
        {
          "output_type": "execute_result",
          "data": {
            "text/plain": [
              "                 ID          Age  Account length  Number vmail messages  \\\n",
              "count   2499.000000  1757.000000     2499.000000            2499.000000   \n",
              "mean   54560.828331    34.816733      100.875950               8.095638   \n",
              "std    26051.947027     6.946140       39.855612              13.670434   \n",
              "min    10001.000000    14.000000        1.000000               0.000000   \n",
              "25%    31237.500000    30.000000       74.000000               0.000000   \n",
              "50%    54807.000000    35.000000      101.000000               0.000000   \n",
              "75%    76421.000000    39.000000      127.000000              19.000000   \n",
              "max    99959.000000    59.000000      225.000000              51.000000   \n",
              "\n",
              "       Total day charge  Total eve minutes  Total eve calls  Total eve charge  \\\n",
              "count       2499.000000        2499.000000      2499.000000       2499.000000   \n",
              "mean          30.677567         201.349860       100.411765         17.114918   \n",
              "std            9.877919          51.026643        20.322902          4.337255   \n",
              "min            0.000000           0.000000         0.000000          0.000000   \n",
              "25%           24.255000         166.100000        87.000000         14.120000   \n",
              "50%           30.500000         201.800000       101.000000         17.150000   \n",
              "75%           36.900000         234.800000       114.000000         19.960000   \n",
              "max           89.460000         476.700000       174.000000         40.520000   \n",
              "\n",
              "       Total night calls  Total night charge  Total intl calls  \\\n",
              "count        2499.000000         2499.000000       2499.000000   \n",
              "mean          100.465786            9.110332          4.504202   \n",
              "std            20.197105            2.329946          2.473738   \n",
              "min            36.000000            1.040000          0.000000   \n",
              "25%            87.000000            7.570000          3.000000   \n",
              "50%           100.000000            9.140000          4.000000   \n",
              "75%           114.000000           10.680000          6.000000   \n",
              "max           198.000000           20.490000         20.000000   \n",
              "\n",
              "       Total intl charge        Churn  \n",
              "count        2499.000000  2499.000000  \n",
              "mean            2.766202     0.144858  \n",
              "std             0.756599     0.352028  \n",
              "min             0.000000     0.000000  \n",
              "25%             2.270000     0.000000  \n",
              "50%             2.780000     0.000000  \n",
              "75%             3.270000     0.000000  \n",
              "max             6.400000     1.000000  "
            ],
            "text/html": [
              "\n",
              "  <div id=\"df-106c07f8-641c-4a4d-aecf-d2ec6e379e01\">\n",
              "    <div class=\"colab-df-container\">\n",
              "      <div>\n",
              "<style scoped>\n",
              "    .dataframe tbody tr th:only-of-type {\n",
              "        vertical-align: middle;\n",
              "    }\n",
              "\n",
              "    .dataframe tbody tr th {\n",
              "        vertical-align: top;\n",
              "    }\n",
              "\n",
              "    .dataframe thead th {\n",
              "        text-align: right;\n",
              "    }\n",
              "</style>\n",
              "<table border=\"1\" class=\"dataframe\">\n",
              "  <thead>\n",
              "    <tr style=\"text-align: right;\">\n",
              "      <th></th>\n",
              "      <th>ID</th>\n",
              "      <th>Age</th>\n",
              "      <th>Account length</th>\n",
              "      <th>Number vmail messages</th>\n",
              "      <th>Total day charge</th>\n",
              "      <th>Total eve minutes</th>\n",
              "      <th>Total eve calls</th>\n",
              "      <th>Total eve charge</th>\n",
              "      <th>Total night calls</th>\n",
              "      <th>Total night charge</th>\n",
              "      <th>Total intl calls</th>\n",
              "      <th>Total intl charge</th>\n",
              "      <th>Churn</th>\n",
              "    </tr>\n",
              "  </thead>\n",
              "  <tbody>\n",
              "    <tr>\n",
              "      <th>count</th>\n",
              "      <td>2499.000000</td>\n",
              "      <td>1757.000000</td>\n",
              "      <td>2499.000000</td>\n",
              "      <td>2499.000000</td>\n",
              "      <td>2499.000000</td>\n",
              "      <td>2499.000000</td>\n",
              "      <td>2499.000000</td>\n",
              "      <td>2499.000000</td>\n",
              "      <td>2499.000000</td>\n",
              "      <td>2499.000000</td>\n",
              "      <td>2499.000000</td>\n",
              "      <td>2499.000000</td>\n",
              "      <td>2499.000000</td>\n",
              "    </tr>\n",
              "    <tr>\n",
              "      <th>mean</th>\n",
              "      <td>54560.828331</td>\n",
              "      <td>34.816733</td>\n",
              "      <td>100.875950</td>\n",
              "      <td>8.095638</td>\n",
              "      <td>30.677567</td>\n",
              "      <td>201.349860</td>\n",
              "      <td>100.411765</td>\n",
              "      <td>17.114918</td>\n",
              "      <td>100.465786</td>\n",
              "      <td>9.110332</td>\n",
              "      <td>4.504202</td>\n",
              "      <td>2.766202</td>\n",
              "      <td>0.144858</td>\n",
              "    </tr>\n",
              "    <tr>\n",
              "      <th>std</th>\n",
              "      <td>26051.947027</td>\n",
              "      <td>6.946140</td>\n",
              "      <td>39.855612</td>\n",
              "      <td>13.670434</td>\n",
              "      <td>9.877919</td>\n",
              "      <td>51.026643</td>\n",
              "      <td>20.322902</td>\n",
              "      <td>4.337255</td>\n",
              "      <td>20.197105</td>\n",
              "      <td>2.329946</td>\n",
              "      <td>2.473738</td>\n",
              "      <td>0.756599</td>\n",
              "      <td>0.352028</td>\n",
              "    </tr>\n",
              "    <tr>\n",
              "      <th>min</th>\n",
              "      <td>10001.000000</td>\n",
              "      <td>14.000000</td>\n",
              "      <td>1.000000</td>\n",
              "      <td>0.000000</td>\n",
              "      <td>0.000000</td>\n",
              "      <td>0.000000</td>\n",
              "      <td>0.000000</td>\n",
              "      <td>0.000000</td>\n",
              "      <td>36.000000</td>\n",
              "      <td>1.040000</td>\n",
              "      <td>0.000000</td>\n",
              "      <td>0.000000</td>\n",
              "      <td>0.000000</td>\n",
              "    </tr>\n",
              "    <tr>\n",
              "      <th>25%</th>\n",
              "      <td>31237.500000</td>\n",
              "      <td>30.000000</td>\n",
              "      <td>74.000000</td>\n",
              "      <td>0.000000</td>\n",
              "      <td>24.255000</td>\n",
              "      <td>166.100000</td>\n",
              "      <td>87.000000</td>\n",
              "      <td>14.120000</td>\n",
              "      <td>87.000000</td>\n",
              "      <td>7.570000</td>\n",
              "      <td>3.000000</td>\n",
              "      <td>2.270000</td>\n",
              "      <td>0.000000</td>\n",
              "    </tr>\n",
              "    <tr>\n",
              "      <th>50%</th>\n",
              "      <td>54807.000000</td>\n",
              "      <td>35.000000</td>\n",
              "      <td>101.000000</td>\n",
              "      <td>0.000000</td>\n",
              "      <td>30.500000</td>\n",
              "      <td>201.800000</td>\n",
              "      <td>101.000000</td>\n",
              "      <td>17.150000</td>\n",
              "      <td>100.000000</td>\n",
              "      <td>9.140000</td>\n",
              "      <td>4.000000</td>\n",
              "      <td>2.780000</td>\n",
              "      <td>0.000000</td>\n",
              "    </tr>\n",
              "    <tr>\n",
              "      <th>75%</th>\n",
              "      <td>76421.000000</td>\n",
              "      <td>39.000000</td>\n",
              "      <td>127.000000</td>\n",
              "      <td>19.000000</td>\n",
              "      <td>36.900000</td>\n",
              "      <td>234.800000</td>\n",
              "      <td>114.000000</td>\n",
              "      <td>19.960000</td>\n",
              "      <td>114.000000</td>\n",
              "      <td>10.680000</td>\n",
              "      <td>6.000000</td>\n",
              "      <td>3.270000</td>\n",
              "      <td>0.000000</td>\n",
              "    </tr>\n",
              "    <tr>\n",
              "      <th>max</th>\n",
              "      <td>99959.000000</td>\n",
              "      <td>59.000000</td>\n",
              "      <td>225.000000</td>\n",
              "      <td>51.000000</td>\n",
              "      <td>89.460000</td>\n",
              "      <td>476.700000</td>\n",
              "      <td>174.000000</td>\n",
              "      <td>40.520000</td>\n",
              "      <td>198.000000</td>\n",
              "      <td>20.490000</td>\n",
              "      <td>20.000000</td>\n",
              "      <td>6.400000</td>\n",
              "      <td>1.000000</td>\n",
              "    </tr>\n",
              "  </tbody>\n",
              "</table>\n",
              "</div>\n",
              "      <button class=\"colab-df-convert\" onclick=\"convertToInteractive('df-106c07f8-641c-4a4d-aecf-d2ec6e379e01')\"\n",
              "              title=\"Convert this dataframe to an interactive table.\"\n",
              "              style=\"display:none;\">\n",
              "        \n",
              "  <svg xmlns=\"http://www.w3.org/2000/svg\" height=\"24px\"viewBox=\"0 0 24 24\"\n",
              "       width=\"24px\">\n",
              "    <path d=\"M0 0h24v24H0V0z\" fill=\"none\"/>\n",
              "    <path d=\"M18.56 5.44l.94 2.06.94-2.06 2.06-.94-2.06-.94-.94-2.06-.94 2.06-2.06.94zm-11 1L8.5 8.5l.94-2.06 2.06-.94-2.06-.94L8.5 2.5l-.94 2.06-2.06.94zm10 10l.94 2.06.94-2.06 2.06-.94-2.06-.94-.94-2.06-.94 2.06-2.06.94z\"/><path d=\"M17.41 7.96l-1.37-1.37c-.4-.4-.92-.59-1.43-.59-.52 0-1.04.2-1.43.59L10.3 9.45l-7.72 7.72c-.78.78-.78 2.05 0 2.83L4 21.41c.39.39.9.59 1.41.59.51 0 1.02-.2 1.41-.59l7.78-7.78 2.81-2.81c.8-.78.8-2.07 0-2.86zM5.41 20L4 18.59l7.72-7.72 1.47 1.35L5.41 20z\"/>\n",
              "  </svg>\n",
              "      </button>\n",
              "      \n",
              "  <style>\n",
              "    .colab-df-container {\n",
              "      display:flex;\n",
              "      flex-wrap:wrap;\n",
              "      gap: 12px;\n",
              "    }\n",
              "\n",
              "    .colab-df-convert {\n",
              "      background-color: #E8F0FE;\n",
              "      border: none;\n",
              "      border-radius: 50%;\n",
              "      cursor: pointer;\n",
              "      display: none;\n",
              "      fill: #1967D2;\n",
              "      height: 32px;\n",
              "      padding: 0 0 0 0;\n",
              "      width: 32px;\n",
              "    }\n",
              "\n",
              "    .colab-df-convert:hover {\n",
              "      background-color: #E2EBFA;\n",
              "      box-shadow: 0px 1px 2px rgba(60, 64, 67, 0.3), 0px 1px 3px 1px rgba(60, 64, 67, 0.15);\n",
              "      fill: #174EA6;\n",
              "    }\n",
              "\n",
              "    [theme=dark] .colab-df-convert {\n",
              "      background-color: #3B4455;\n",
              "      fill: #D2E3FC;\n",
              "    }\n",
              "\n",
              "    [theme=dark] .colab-df-convert:hover {\n",
              "      background-color: #434B5C;\n",
              "      box-shadow: 0px 1px 3px 1px rgba(0, 0, 0, 0.15);\n",
              "      filter: drop-shadow(0px 1px 2px rgba(0, 0, 0, 0.3));\n",
              "      fill: #FFFFFF;\n",
              "    }\n",
              "  </style>\n",
              "\n",
              "      <script>\n",
              "        const buttonEl =\n",
              "          document.querySelector('#df-106c07f8-641c-4a4d-aecf-d2ec6e379e01 button.colab-df-convert');\n",
              "        buttonEl.style.display =\n",
              "          google.colab.kernel.accessAllowed ? 'block' : 'none';\n",
              "\n",
              "        async function convertToInteractive(key) {\n",
              "          const element = document.querySelector('#df-106c07f8-641c-4a4d-aecf-d2ec6e379e01');\n",
              "          const dataTable =\n",
              "            await google.colab.kernel.invokeFunction('convertToInteractive',\n",
              "                                                     [key], {});\n",
              "          if (!dataTable) return;\n",
              "\n",
              "          const docLinkHtml = 'Like what you see? Visit the ' +\n",
              "            '<a target=\"_blank\" href=https://colab.research.google.com/notebooks/data_table.ipynb>data table notebook</a>'\n",
              "            + ' to learn more about interactive tables.';\n",
              "          element.innerHTML = '';\n",
              "          dataTable['output_type'] = 'display_data';\n",
              "          await google.colab.output.renderOutput(dataTable, element);\n",
              "          const docLink = document.createElement('div');\n",
              "          docLink.innerHTML = docLinkHtml;\n",
              "          element.appendChild(docLink);\n",
              "        }\n",
              "      </script>\n",
              "    </div>\n",
              "  </div>\n",
              "  "
            ]
          },
          "metadata": {},
          "execution_count": 8
        }
      ]
    },
    {
      "cell_type": "markdown",
      "metadata": {
        "id": "ENMjWsEg2tIu"
      },
      "source": [
        "### Task 2\n",
        "\n",
        "Convert all numeric features that have `object` type to float or integer. Spot and fix mistakes in the data that prevent from successful conversion.\n",
        "**NB:** You should detect and fix mistakes using python code, fixing the csv file by hand is forbidden."
      ]
    },
    {
      "cell_type": "code",
      "source": [
        "print(train['Sex'].unique())\n",
        "print(train['State'].unique())\n",
        "print(train['Phone number'].unique())\n",
        "print(train['Plans'].unique())"
      ],
      "metadata": {
        "id": "VBIZqPWNGCBB",
        "colab": {
          "base_uri": "https://localhost:8080/"
        },
        "outputId": "c65bd419-6581-4dbf-f958-94be1d238c4e"
      },
      "execution_count": null,
      "outputs": [
        {
          "output_type": "stream",
          "name": "stdout",
          "text": [
            "['Female' 'Male']\n",
            "['MN' 'AR' 'ND' 'AL' 'DE' 'NE' 'GA' 'NC' 'DC' 'IA' 'MS' 'NH' 'NY' 'AZ'\n",
            " 'UT' 'IN' 'WI' 'OK' 'WV' 'OR' 'ID' 'FL' 'NV' 'WY' 'MI' 'KS' 'KY' 'VA'\n",
            " 'MT' 'PA' 'NM' 'IL' 'NJ' 'CO' 'LA' 'CA' 'MD' 'SD' 'OH' 'ME' 'SC' 'TN'\n",
            " 'WA' 'AK' 'MA' 'RI' 'HI' 'VT' 'MO' 'TX' 'CT']\n",
            "['415 695 24 37' '408 673 99 45' '415 693 30 62' ... '510 191 97 69'\n",
            " '415 846 60 88' '408 739 90 49']\n",
            "['Voice mail' 'None' 'International, Voice mail' 'International' nan]\n"
          ]
        }
      ]
    },
    {
      "cell_type": "code",
      "execution_count": null,
      "metadata": {
        "collapsed": true,
        "id": "hZ90HuDh2tIv",
        "colab": {
          "base_uri": "https://localhost:8080/"
        },
        "outputId": "13deaf50-cb58-4083-c9f1-2e502cf3965f"
      },
      "outputs": [
        {
          "output_type": "stream",
          "name": "stdout",
          "text": [
            "['174.4' '185.8' '224.9' ... '7.8' '289.5' '315.6']\n",
            "['75.0' '119.0' '105.0' '87.0' '134.0' '146.0' '110.0' '109.0' '121.0'\n",
            " '141.0' '135.0' '54.0' '120.0' '85.0' '117.0' '88.0' '65.0' '68.0'\n",
            " '112.0' '90.0' '77.0' '67.0' '100.0' '82.0' '116.0' '73.0' '128.0' '89.0'\n",
            " '72.0' '83.0' '99.0' '136.0' '125.0' '113.0' '111.0' '102.0' '93.0'\n",
            " '115.0' '94.0' '92.0' '132.0' '96.0' '98.0' '84.0' '160.0' '86.0' '130.0'\n",
            " '107.0' '95.0' '138.0' '79.0' '114.0' '140.0' '101.0' '78.0' '80.0'\n",
            " '70.0' '108.0' '71.0' '49.0' '126.0' '91.0' '122.0' '118.0' '62.0'\n",
            " '103.0' '123.0' '124.0' '147.0' '81.0' '74.0' '64.0' '76.0' '137.0'\n",
            " '129.0' '97.0' '104.0' '100.5' '66.0' '45.0' '131.0' '133.0' '55.0'\n",
            " '57.0' '69.0' '127.0' '61.0' '106.0' '63.0' '150.0' '142.0' '144.0'\n",
            " '139.0' '157.0' '168.0' '60.0' '145.0' '56.0' '143.0' '158.0' '58.0'\n",
            " '151.0' '44.0' '148.0' '59.0' '121.5' '52.0' '47.0' '152.0' '53.0' '51.0'\n",
            " '0.0' '180.0' '1o4.o' '30.0' '1o6.o' '112.5' '159.0' '48.0' '42.0'\n",
            " '115.5' '163.0' '177.0']\n",
            "['201.6' '200.0' '216.1' ... '105.9' '61.4' '67.7']\n",
            "['11.0' '6.6' '6.7' '11.2' '8.5' '10.6' '9.2' '3.5' '8.0' '10.1' '10.8'\n",
            " '11.9' '6.0' '9.7' '9.3' '10.0' '9.4' '11.3' '7.7' '12.8' '16.5' '12.3'\n",
            " '14.0' '8.1' '12.1' '15.1' '8.8' '12.2' '10.9' '16.1' '12.6' '13.3'\n",
            " '13.7' '8.6' '8.2' '13.5' '11.4' '18.0' '6.9' '9.5' '5.4' '12.0' '7.2'\n",
            " '11.6' '10.2' '10.3' '15.2' '13.4' '14.5' '15,3' '6.4' '8.7' '6.5' '0.0'\n",
            " '11.8' '9.6' '5.6' '4.2' '12.5' '13.9' '10.4' '4.9' '7.1' '8.4' '7.6'\n",
            " '17.6' '16.4' '7.8' '14.1' '6.3' '8.3' '11.1' '13.1' '20.0' '8,4' '9.1'\n",
            " '9.8' '7.0' '10.7' '15.0' '13.2' '10,3' '7.5' '14.6' '11.5' '2.5' '9.9'\n",
            " '5.7' '6.8' '7.9' '15.4' '13.8' '5.0' '13.0' '12.7' '12.4' '14.4' '5.9'\n",
            " '4.1' '5.5' '7.3' '5.8' '14.8' '12.9' '6.1' '7.4' '14.2' '5.1' '9.0'\n",
            " '10.5' '15.9' '4.7' '4.3' '18.4' '18.9' '15.3' '13.6' '2.9' '10.05'\n",
            " '15.7' '3.9' '8.9' '4.4' '16.05' '14.7' '11.7' '2.6' '9,5' '4.5' '15.5'\n",
            " '6.2' '11,7' '15.6' '5.3' '18.3' '16.2' '12,3' '14.3' '11,1' '11.25'\n",
            " '17.8' '14.9' '8,9' '14,0' '5.2' '16.0' '15.8' '4.8' '11,5' '11,2' '16.7'\n",
            " '17,0' '4.6' '3.8' '17.7' '7,1' '16.9' '18.2' '3.7' '4.0' '11,0' '8,0'\n",
            " '16.3' '9,1' '17.3' '3.6' '17.0' '23.7' '1.1' '6,3' '11,3' '2.0' '15.15'\n",
            " '11,8' '13.05' '9,4' '12,5' '3.3' '1.3' '7,3' '19.05' '2.7' '2.1']\n",
            "['56.13' '58.72' '71.01' ... '86.38' '70.46' '49.04']\n",
            "['1' '3' '4' '2' '0' '5' 'o' '7' '6' '8' '9']\n"
          ]
        }
      ],
      "source": [
        "print(train['Total day minutes'].unique())\n",
        "print(train['Total day calls'].unique())\n",
        "print(train['Total night minutes'].unique())\n",
        "print(train['Total intl minutes'].unique())\n",
        "print(train['Total charge'].unique())\n",
        "print(train['Customer service calls'].unique())"
      ]
    },
    {
      "cell_type": "code",
      "source": [
        "def get_number(x):\n",
        "  try:\n",
        "    x = float(x)\n",
        "  except:\n",
        "    x = x.replace('o','0')\n",
        "    x = x.replace(',','.')\n",
        "    x = x.replace('l','1')\n",
        "    if x.find('hundred') > -1:\n",
        "      x = float(x.replace('hundred','')) * 100\n",
        "    x = float(x)\n",
        "  return x"
      ],
      "metadata": {
        "id": "fRyExbqbLHzc"
      },
      "execution_count": null,
      "outputs": []
    },
    {
      "cell_type": "code",
      "source": [
        "train['Total day minutes'] = train['Total day minutes'].apply(lambda x: get_number(x))\n",
        "train['Total day calls'] = train['Total day calls'].apply(lambda x: get_number(x))\n",
        "train['Total night minutes'] = train['Total night minutes'].apply(lambda x: get_number(x))\n",
        "train['Total intl minutes'] = train['Total intl minutes'].apply(lambda x: get_number(x))\n",
        "train['Total charge'] = train['Total charge'].apply(lambda x: get_number(x))\n",
        "train['Customer service calls'] = train['Customer service calls'].apply(lambda x: get_number(x))"
      ],
      "metadata": {
        "id": "4gPdQEX9LFBm"
      },
      "execution_count": null,
      "outputs": []
    },
    {
      "cell_type": "markdown",
      "metadata": {
        "id": "6SMdcKw32tIv"
      },
      "source": [
        "### Task 3\n",
        "\n",
        "How many features have missing values? How many missing values by each feature?\n",
        "Handle the missing data."
      ]
    },
    {
      "cell_type": "code",
      "execution_count": null,
      "metadata": {
        "collapsed": true,
        "id": "dVhu7QZ62tIv"
      },
      "outputs": [],
      "source": [
        "def isNaN(string):\n",
        "  if (str(string)=='None' or str(string)=='' or str(string)=='-'):\n",
        "    return True\n",
        "  else:\n",
        "    return string != string"
      ]
    },
    {
      "cell_type": "code",
      "source": [
        "for column in train.columns:\n",
        "  missing_values = []\n",
        "  for x in train[column]:\n",
        "    if isNaN(x):\n",
        "      missing_values.append(x)\n",
        "  print(column,\n",
        "        len(missing_values),\n",
        "        set(missing_values))"
      ],
      "metadata": {
        "id": "adWf5ffdaFV4",
        "colab": {
          "base_uri": "https://localhost:8080/"
        },
        "outputId": "e7515799-ddb7-4390-a33e-eaa28a2bdb0c"
      },
      "execution_count": null,
      "outputs": [
        {
          "output_type": "stream",
          "name": "stdout",
          "text": [
            "ID 0 set()\n",
            "Sex 0 set()\n",
            "Age 742 {nan, nan, nan, nan, nan, nan, nan, nan, nan, nan, nan, nan, nan, nan, nan, nan, nan, nan, nan, nan, nan, nan, nan, nan, nan, nan, nan, nan, nan, nan, nan, nan, nan, nan, nan, nan, nan, nan, nan, nan, nan, nan, nan, nan, nan, nan, nan, nan, nan, nan, nan, nan, nan, nan, nan, nan, nan, nan, nan, nan, nan, nan, nan, nan, nan, nan, nan, nan, nan, nan, nan, nan, nan, nan, nan, nan, nan, nan, nan, nan, nan, nan, nan, nan, nan, nan, nan, nan, nan, nan, nan, nan, nan, nan, nan, nan, nan, nan, nan, nan, nan, nan, nan, nan, nan, nan, nan, nan, nan, nan, nan, nan, nan, nan, nan, nan, nan, nan, nan, nan, nan, nan, nan, nan, nan, nan, nan, nan, nan, nan, nan, nan, nan, nan, nan, nan, nan, nan, nan, nan, nan, nan, nan, nan, nan, nan, nan, nan, nan, nan, nan, nan, nan, nan, nan, nan, nan, nan, nan, nan, nan, nan, nan, nan, nan, nan, nan, nan, nan, nan, nan, nan, nan, nan, nan, nan, nan, nan, nan, nan, nan, nan, nan, nan, nan, nan, nan, nan, nan, nan, nan, nan, nan, nan, nan, nan, nan, nan, nan, nan, nan, nan, nan, nan, nan, nan, nan, nan, nan, nan, nan, nan, nan, nan, nan, nan, nan, nan, nan, nan, nan, nan, nan, nan, nan, nan, nan, nan, nan, nan, nan, nan, nan, nan, nan, nan, nan, nan, nan, nan, nan, nan, nan, nan, nan, nan, nan, nan, nan, nan, nan, nan, nan, nan, nan, nan, nan, nan, nan, nan, nan, nan, nan, nan, nan, nan, nan, nan, nan, nan, nan, nan, nan, nan, nan, nan, nan, nan, nan, nan, nan, nan, nan, nan, nan, nan, nan, nan, nan, nan, nan, nan, nan, nan, nan, nan, nan, nan, nan, nan, nan, nan, nan, nan, nan, nan, nan, nan, nan, nan, nan, nan, nan, nan, nan, nan, nan, nan, nan, nan, nan, nan, nan, nan, nan, nan, nan, nan, nan, nan, nan, nan, nan, nan, nan, nan, nan, nan, nan, nan, nan, nan, nan, nan, nan, nan, nan, nan, nan, nan, nan, nan, nan, nan, nan, nan, nan, nan, nan, nan, nan, nan, nan, nan, nan, nan, nan, nan, nan, nan, nan, nan, nan, nan, nan, nan, nan, nan, nan, nan, nan, nan, nan, nan, nan, nan, nan, nan, nan, nan, nan, nan, nan, nan, nan, nan, nan, nan, nan, nan, nan, nan, nan, nan, nan, nan, nan, nan, nan, nan, nan, nan, nan, nan, nan, nan, nan, nan, nan, nan, nan, nan, nan, nan, nan, nan, nan, nan, nan, nan, nan, nan, nan, nan, nan, nan, nan, nan, nan, nan, nan, nan, nan, nan, nan, nan, nan, nan, nan, nan, nan, nan, nan, nan, nan, nan, nan, nan, nan, nan, nan, nan, nan, nan, nan, nan, nan, nan, nan, nan, nan, nan, nan, nan, nan, nan, nan, nan, nan, nan, nan, nan, nan, nan, nan, nan, nan, nan, nan, nan, nan, nan, nan, nan, nan, nan, nan, nan, nan, nan, nan, nan, nan, nan, nan, nan, nan, nan, nan, nan, nan, nan, nan, nan, nan, nan, nan, nan, nan, nan, nan, nan, nan, nan, nan, nan, nan, nan, nan, nan, nan, nan, nan, nan, nan, nan, nan, nan, nan, nan, nan, nan, nan, nan, nan, nan, nan, nan, nan, nan, nan, nan, nan, nan, nan, nan, nan, nan, nan, nan, nan, nan, nan, nan, nan, nan, nan, nan, nan, nan, nan, nan, nan, nan, nan, nan, nan, nan, nan, nan, nan, nan, nan, nan, nan, nan, nan, nan, nan, nan, nan, nan, nan, nan, nan, nan, nan, nan, nan, nan, nan, nan, nan, nan, nan, nan, nan, nan, nan, nan, nan, nan, nan, nan, nan, nan, nan, nan, nan, nan, nan, nan, nan, nan, nan, nan, nan, nan, nan, nan, nan, nan, nan, nan, nan, nan, nan, nan, nan, nan, nan, nan, nan, nan, nan, nan, nan, nan, nan, nan, nan, nan, nan, nan, nan, nan, nan, nan, nan, nan, nan, nan, nan, nan, nan, nan, nan, nan, nan, nan, nan, nan, nan, nan, nan, nan, nan, nan, nan, nan, nan, nan, nan, nan, nan, nan, nan, nan, nan, nan, nan, nan, nan, nan, nan, nan, nan, nan, nan, nan, nan, nan, nan, nan, nan, nan, nan, nan, nan, nan, nan, nan, nan, nan, nan, nan, nan, nan, nan, nan, nan, nan, nan, nan, nan, nan, nan, nan, nan, nan, nan, nan, nan, nan, nan, nan, nan, nan, nan, nan, nan, nan}\n",
            "State 0 set()\n",
            "Account length 0 set()\n",
            "Phone number 0 set()\n",
            "Plans 1639 {nan, 'None'}\n",
            "Number vmail messages 0 set()\n",
            "Total day minutes 0 set()\n",
            "Total day calls 0 set()\n",
            "Total day charge 0 set()\n",
            "Total eve minutes 0 set()\n",
            "Total eve calls 0 set()\n",
            "Total eve charge 0 set()\n",
            "Total night minutes 0 set()\n",
            "Total night calls 0 set()\n",
            "Total night charge 0 set()\n",
            "Total intl minutes 0 set()\n",
            "Total intl calls 0 set()\n",
            "Total intl charge 0 set()\n",
            "Total charge 0 set()\n",
            "Customer service calls 0 set()\n",
            "Churn 0 set()\n"
          ]
        }
      ]
    },
    {
      "cell_type": "markdown",
      "source": [
        "There are two features with missing values: Plans and Age.\n",
        "I think it is good idea to change missind Age with median and missing Plans with sting 'None'."
      ],
      "metadata": {
        "id": "QGvGQhHpbHzH"
      }
    },
    {
      "cell_type": "code",
      "source": [
        "m = train['Age'].describe()['mean']\n",
        "\n",
        "for i in range(len(train)):\n",
        "  if isNaN(train['Age'].iloc[i]):\n",
        "    train['Age'].iloc[i]=m\n"
      ],
      "metadata": {
        "id": "963aiyhvbG1v",
        "colab": {
          "base_uri": "https://localhost:8080/"
        },
        "outputId": "a49046e0-0618-4d01-bee4-3faadf3b736c"
      },
      "execution_count": null,
      "outputs": [
        {
          "output_type": "stream",
          "name": "stderr",
          "text": [
            "/usr/local/lib/python3.8/dist-packages/pandas/core/indexing.py:1732: SettingWithCopyWarning: \n",
            "A value is trying to be set on a copy of a slice from a DataFrame\n",
            "\n",
            "See the caveats in the documentation: https://pandas.pydata.org/pandas-docs/stable/user_guide/indexing.html#returning-a-view-versus-a-copy\n",
            "  self._setitem_single_block(indexer, value, name)\n"
          ]
        }
      ]
    },
    {
      "cell_type": "code",
      "source": [
        "for i in range(len(train)):\n",
        "  if isNaN(train['Plans'].iloc[i]):\n",
        "    train['Plans'].iloc[i]='None'\n"
      ],
      "metadata": {
        "id": "GFWIxAo4dCBs"
      },
      "execution_count": null,
      "outputs": []
    },
    {
      "cell_type": "markdown",
      "metadata": {
        "id": "37tF69302tIv"
      },
      "source": [
        "### Task 4\n",
        "\n",
        "Create new feature `Area code` - first 3 digits in `Phone number`.\n",
        "\n",
        "How many unique areas are presented in the dataset? How much objects for each area?\n",
        "Check how many states are in each area. Is there any state that is in more than one area? Give an example if so."
      ]
    },
    {
      "cell_type": "code",
      "source": [
        "train['Area code'] = train['Phone number'].apply(lambda x: x[:3])"
      ],
      "metadata": {
        "id": "1xgIhzstlBiZ"
      },
      "execution_count": null,
      "outputs": []
    },
    {
      "cell_type": "code",
      "execution_count": null,
      "metadata": {
        "collapsed": true,
        "id": "FOmKobki2tIv",
        "colab": {
          "base_uri": "https://localhost:8080/",
          "height": 175
        },
        "outputId": "a39675d0-4d3a-476a-aa95-f27bc13a688d"
      },
      "outputs": [
        {
          "output_type": "execute_result",
          "data": {
            "text/plain": [
              "             ID\n",
              "Area code      \n",
              "408         632\n",
              "415        1247\n",
              "510         620"
            ],
            "text/html": [
              "\n",
              "  <div id=\"df-0c5299f3-1d04-4fe0-9e8d-8f99cba07031\">\n",
              "    <div class=\"colab-df-container\">\n",
              "      <div>\n",
              "<style scoped>\n",
              "    .dataframe tbody tr th:only-of-type {\n",
              "        vertical-align: middle;\n",
              "    }\n",
              "\n",
              "    .dataframe tbody tr th {\n",
              "        vertical-align: top;\n",
              "    }\n",
              "\n",
              "    .dataframe thead th {\n",
              "        text-align: right;\n",
              "    }\n",
              "</style>\n",
              "<table border=\"1\" class=\"dataframe\">\n",
              "  <thead>\n",
              "    <tr style=\"text-align: right;\">\n",
              "      <th></th>\n",
              "      <th>ID</th>\n",
              "    </tr>\n",
              "    <tr>\n",
              "      <th>Area code</th>\n",
              "      <th></th>\n",
              "    </tr>\n",
              "  </thead>\n",
              "  <tbody>\n",
              "    <tr>\n",
              "      <th>408</th>\n",
              "      <td>632</td>\n",
              "    </tr>\n",
              "    <tr>\n",
              "      <th>415</th>\n",
              "      <td>1247</td>\n",
              "    </tr>\n",
              "    <tr>\n",
              "      <th>510</th>\n",
              "      <td>620</td>\n",
              "    </tr>\n",
              "  </tbody>\n",
              "</table>\n",
              "</div>\n",
              "      <button class=\"colab-df-convert\" onclick=\"convertToInteractive('df-0c5299f3-1d04-4fe0-9e8d-8f99cba07031')\"\n",
              "              title=\"Convert this dataframe to an interactive table.\"\n",
              "              style=\"display:none;\">\n",
              "        \n",
              "  <svg xmlns=\"http://www.w3.org/2000/svg\" height=\"24px\"viewBox=\"0 0 24 24\"\n",
              "       width=\"24px\">\n",
              "    <path d=\"M0 0h24v24H0V0z\" fill=\"none\"/>\n",
              "    <path d=\"M18.56 5.44l.94 2.06.94-2.06 2.06-.94-2.06-.94-.94-2.06-.94 2.06-2.06.94zm-11 1L8.5 8.5l.94-2.06 2.06-.94-2.06-.94L8.5 2.5l-.94 2.06-2.06.94zm10 10l.94 2.06.94-2.06 2.06-.94-2.06-.94-.94-2.06-.94 2.06-2.06.94z\"/><path d=\"M17.41 7.96l-1.37-1.37c-.4-.4-.92-.59-1.43-.59-.52 0-1.04.2-1.43.59L10.3 9.45l-7.72 7.72c-.78.78-.78 2.05 0 2.83L4 21.41c.39.39.9.59 1.41.59.51 0 1.02-.2 1.41-.59l7.78-7.78 2.81-2.81c.8-.78.8-2.07 0-2.86zM5.41 20L4 18.59l7.72-7.72 1.47 1.35L5.41 20z\"/>\n",
              "  </svg>\n",
              "      </button>\n",
              "      \n",
              "  <style>\n",
              "    .colab-df-container {\n",
              "      display:flex;\n",
              "      flex-wrap:wrap;\n",
              "      gap: 12px;\n",
              "    }\n",
              "\n",
              "    .colab-df-convert {\n",
              "      background-color: #E8F0FE;\n",
              "      border: none;\n",
              "      border-radius: 50%;\n",
              "      cursor: pointer;\n",
              "      display: none;\n",
              "      fill: #1967D2;\n",
              "      height: 32px;\n",
              "      padding: 0 0 0 0;\n",
              "      width: 32px;\n",
              "    }\n",
              "\n",
              "    .colab-df-convert:hover {\n",
              "      background-color: #E2EBFA;\n",
              "      box-shadow: 0px 1px 2px rgba(60, 64, 67, 0.3), 0px 1px 3px 1px rgba(60, 64, 67, 0.15);\n",
              "      fill: #174EA6;\n",
              "    }\n",
              "\n",
              "    [theme=dark] .colab-df-convert {\n",
              "      background-color: #3B4455;\n",
              "      fill: #D2E3FC;\n",
              "    }\n",
              "\n",
              "    [theme=dark] .colab-df-convert:hover {\n",
              "      background-color: #434B5C;\n",
              "      box-shadow: 0px 1px 3px 1px rgba(0, 0, 0, 0.15);\n",
              "      filter: drop-shadow(0px 1px 2px rgba(0, 0, 0, 0.3));\n",
              "      fill: #FFFFFF;\n",
              "    }\n",
              "  </style>\n",
              "\n",
              "      <script>\n",
              "        const buttonEl =\n",
              "          document.querySelector('#df-0c5299f3-1d04-4fe0-9e8d-8f99cba07031 button.colab-df-convert');\n",
              "        buttonEl.style.display =\n",
              "          google.colab.kernel.accessAllowed ? 'block' : 'none';\n",
              "\n",
              "        async function convertToInteractive(key) {\n",
              "          const element = document.querySelector('#df-0c5299f3-1d04-4fe0-9e8d-8f99cba07031');\n",
              "          const dataTable =\n",
              "            await google.colab.kernel.invokeFunction('convertToInteractive',\n",
              "                                                     [key], {});\n",
              "          if (!dataTable) return;\n",
              "\n",
              "          const docLinkHtml = 'Like what you see? Visit the ' +\n",
              "            '<a target=\"_blank\" href=https://colab.research.google.com/notebooks/data_table.ipynb>data table notebook</a>'\n",
              "            + ' to learn more about interactive tables.';\n",
              "          element.innerHTML = '';\n",
              "          dataTable['output_type'] = 'display_data';\n",
              "          await google.colab.output.renderOutput(dataTable, element);\n",
              "          const docLink = document.createElement('div');\n",
              "          docLink.innerHTML = docLinkHtml;\n",
              "          element.appendChild(docLink);\n",
              "        }\n",
              "      </script>\n",
              "    </div>\n",
              "  </div>\n",
              "  "
            ]
          },
          "metadata": {},
          "execution_count": 18
        }
      ],
      "source": [
        "train[['ID','Area code']].groupby(by=[\"Area code\"]).count()"
      ]
    },
    {
      "cell_type": "code",
      "source": [
        "train[['State','Area code']].drop_duplicates().groupby(by=[\"Area code\"]).count()"
      ],
      "metadata": {
        "colab": {
          "base_uri": "https://localhost:8080/",
          "height": 175
        },
        "id": "BZds3nKWltDJ",
        "outputId": "1a0fda94-8179-4eab-9709-1454b232a4af"
      },
      "execution_count": null,
      "outputs": [
        {
          "output_type": "execute_result",
          "data": {
            "text/plain": [
              "           State\n",
              "Area code       \n",
              "408           51\n",
              "415           51\n",
              "510           51"
            ],
            "text/html": [
              "\n",
              "  <div id=\"df-90620635-e6c1-4e3a-9670-1fd42c6423e9\">\n",
              "    <div class=\"colab-df-container\">\n",
              "      <div>\n",
              "<style scoped>\n",
              "    .dataframe tbody tr th:only-of-type {\n",
              "        vertical-align: middle;\n",
              "    }\n",
              "\n",
              "    .dataframe tbody tr th {\n",
              "        vertical-align: top;\n",
              "    }\n",
              "\n",
              "    .dataframe thead th {\n",
              "        text-align: right;\n",
              "    }\n",
              "</style>\n",
              "<table border=\"1\" class=\"dataframe\">\n",
              "  <thead>\n",
              "    <tr style=\"text-align: right;\">\n",
              "      <th></th>\n",
              "      <th>State</th>\n",
              "    </tr>\n",
              "    <tr>\n",
              "      <th>Area code</th>\n",
              "      <th></th>\n",
              "    </tr>\n",
              "  </thead>\n",
              "  <tbody>\n",
              "    <tr>\n",
              "      <th>408</th>\n",
              "      <td>51</td>\n",
              "    </tr>\n",
              "    <tr>\n",
              "      <th>415</th>\n",
              "      <td>51</td>\n",
              "    </tr>\n",
              "    <tr>\n",
              "      <th>510</th>\n",
              "      <td>51</td>\n",
              "    </tr>\n",
              "  </tbody>\n",
              "</table>\n",
              "</div>\n",
              "      <button class=\"colab-df-convert\" onclick=\"convertToInteractive('df-90620635-e6c1-4e3a-9670-1fd42c6423e9')\"\n",
              "              title=\"Convert this dataframe to an interactive table.\"\n",
              "              style=\"display:none;\">\n",
              "        \n",
              "  <svg xmlns=\"http://www.w3.org/2000/svg\" height=\"24px\"viewBox=\"0 0 24 24\"\n",
              "       width=\"24px\">\n",
              "    <path d=\"M0 0h24v24H0V0z\" fill=\"none\"/>\n",
              "    <path d=\"M18.56 5.44l.94 2.06.94-2.06 2.06-.94-2.06-.94-.94-2.06-.94 2.06-2.06.94zm-11 1L8.5 8.5l.94-2.06 2.06-.94-2.06-.94L8.5 2.5l-.94 2.06-2.06.94zm10 10l.94 2.06.94-2.06 2.06-.94-2.06-.94-.94-2.06-.94 2.06-2.06.94z\"/><path d=\"M17.41 7.96l-1.37-1.37c-.4-.4-.92-.59-1.43-.59-.52 0-1.04.2-1.43.59L10.3 9.45l-7.72 7.72c-.78.78-.78 2.05 0 2.83L4 21.41c.39.39.9.59 1.41.59.51 0 1.02-.2 1.41-.59l7.78-7.78 2.81-2.81c.8-.78.8-2.07 0-2.86zM5.41 20L4 18.59l7.72-7.72 1.47 1.35L5.41 20z\"/>\n",
              "  </svg>\n",
              "      </button>\n",
              "      \n",
              "  <style>\n",
              "    .colab-df-container {\n",
              "      display:flex;\n",
              "      flex-wrap:wrap;\n",
              "      gap: 12px;\n",
              "    }\n",
              "\n",
              "    .colab-df-convert {\n",
              "      background-color: #E8F0FE;\n",
              "      border: none;\n",
              "      border-radius: 50%;\n",
              "      cursor: pointer;\n",
              "      display: none;\n",
              "      fill: #1967D2;\n",
              "      height: 32px;\n",
              "      padding: 0 0 0 0;\n",
              "      width: 32px;\n",
              "    }\n",
              "\n",
              "    .colab-df-convert:hover {\n",
              "      background-color: #E2EBFA;\n",
              "      box-shadow: 0px 1px 2px rgba(60, 64, 67, 0.3), 0px 1px 3px 1px rgba(60, 64, 67, 0.15);\n",
              "      fill: #174EA6;\n",
              "    }\n",
              "\n",
              "    [theme=dark] .colab-df-convert {\n",
              "      background-color: #3B4455;\n",
              "      fill: #D2E3FC;\n",
              "    }\n",
              "\n",
              "    [theme=dark] .colab-df-convert:hover {\n",
              "      background-color: #434B5C;\n",
              "      box-shadow: 0px 1px 3px 1px rgba(0, 0, 0, 0.15);\n",
              "      filter: drop-shadow(0px 1px 2px rgba(0, 0, 0, 0.3));\n",
              "      fill: #FFFFFF;\n",
              "    }\n",
              "  </style>\n",
              "\n",
              "      <script>\n",
              "        const buttonEl =\n",
              "          document.querySelector('#df-90620635-e6c1-4e3a-9670-1fd42c6423e9 button.colab-df-convert');\n",
              "        buttonEl.style.display =\n",
              "          google.colab.kernel.accessAllowed ? 'block' : 'none';\n",
              "\n",
              "        async function convertToInteractive(key) {\n",
              "          const element = document.querySelector('#df-90620635-e6c1-4e3a-9670-1fd42c6423e9');\n",
              "          const dataTable =\n",
              "            await google.colab.kernel.invokeFunction('convertToInteractive',\n",
              "                                                     [key], {});\n",
              "          if (!dataTable) return;\n",
              "\n",
              "          const docLinkHtml = 'Like what you see? Visit the ' +\n",
              "            '<a target=\"_blank\" href=https://colab.research.google.com/notebooks/data_table.ipynb>data table notebook</a>'\n",
              "            + ' to learn more about interactive tables.';\n",
              "          element.innerHTML = '';\n",
              "          dataTable['output_type'] = 'display_data';\n",
              "          await google.colab.output.renderOutput(dataTable, element);\n",
              "          const docLink = document.createElement('div');\n",
              "          docLink.innerHTML = docLinkHtml;\n",
              "          element.appendChild(docLink);\n",
              "        }\n",
              "      </script>\n",
              "    </div>\n",
              "  </div>\n",
              "  "
            ]
          },
          "metadata": {},
          "execution_count": 19
        }
      ]
    },
    {
      "cell_type": "code",
      "source": [
        "train[train.State=='MN'][['State','Area code']].drop_duplicates()"
      ],
      "metadata": {
        "colab": {
          "base_uri": "https://localhost:8080/",
          "height": 143
        },
        "id": "2x6jLUHql7ss",
        "outputId": "30926197-22d1-4714-de33-ef98c8a4b5f2"
      },
      "execution_count": null,
      "outputs": [
        {
          "output_type": "execute_result",
          "data": {
            "text/plain": [
              "   State Area code\n",
              "0     MN       415\n",
              "10    MN       408\n",
              "27    MN       510"
            ],
            "text/html": [
              "\n",
              "  <div id=\"df-58d2ab77-058b-4a08-ad51-bbdace6b466f\">\n",
              "    <div class=\"colab-df-container\">\n",
              "      <div>\n",
              "<style scoped>\n",
              "    .dataframe tbody tr th:only-of-type {\n",
              "        vertical-align: middle;\n",
              "    }\n",
              "\n",
              "    .dataframe tbody tr th {\n",
              "        vertical-align: top;\n",
              "    }\n",
              "\n",
              "    .dataframe thead th {\n",
              "        text-align: right;\n",
              "    }\n",
              "</style>\n",
              "<table border=\"1\" class=\"dataframe\">\n",
              "  <thead>\n",
              "    <tr style=\"text-align: right;\">\n",
              "      <th></th>\n",
              "      <th>State</th>\n",
              "      <th>Area code</th>\n",
              "    </tr>\n",
              "  </thead>\n",
              "  <tbody>\n",
              "    <tr>\n",
              "      <th>0</th>\n",
              "      <td>MN</td>\n",
              "      <td>415</td>\n",
              "    </tr>\n",
              "    <tr>\n",
              "      <th>10</th>\n",
              "      <td>MN</td>\n",
              "      <td>408</td>\n",
              "    </tr>\n",
              "    <tr>\n",
              "      <th>27</th>\n",
              "      <td>MN</td>\n",
              "      <td>510</td>\n",
              "    </tr>\n",
              "  </tbody>\n",
              "</table>\n",
              "</div>\n",
              "      <button class=\"colab-df-convert\" onclick=\"convertToInteractive('df-58d2ab77-058b-4a08-ad51-bbdace6b466f')\"\n",
              "              title=\"Convert this dataframe to an interactive table.\"\n",
              "              style=\"display:none;\">\n",
              "        \n",
              "  <svg xmlns=\"http://www.w3.org/2000/svg\" height=\"24px\"viewBox=\"0 0 24 24\"\n",
              "       width=\"24px\">\n",
              "    <path d=\"M0 0h24v24H0V0z\" fill=\"none\"/>\n",
              "    <path d=\"M18.56 5.44l.94 2.06.94-2.06 2.06-.94-2.06-.94-.94-2.06-.94 2.06-2.06.94zm-11 1L8.5 8.5l.94-2.06 2.06-.94-2.06-.94L8.5 2.5l-.94 2.06-2.06.94zm10 10l.94 2.06.94-2.06 2.06-.94-2.06-.94-.94-2.06-.94 2.06-2.06.94z\"/><path d=\"M17.41 7.96l-1.37-1.37c-.4-.4-.92-.59-1.43-.59-.52 0-1.04.2-1.43.59L10.3 9.45l-7.72 7.72c-.78.78-.78 2.05 0 2.83L4 21.41c.39.39.9.59 1.41.59.51 0 1.02-.2 1.41-.59l7.78-7.78 2.81-2.81c.8-.78.8-2.07 0-2.86zM5.41 20L4 18.59l7.72-7.72 1.47 1.35L5.41 20z\"/>\n",
              "  </svg>\n",
              "      </button>\n",
              "      \n",
              "  <style>\n",
              "    .colab-df-container {\n",
              "      display:flex;\n",
              "      flex-wrap:wrap;\n",
              "      gap: 12px;\n",
              "    }\n",
              "\n",
              "    .colab-df-convert {\n",
              "      background-color: #E8F0FE;\n",
              "      border: none;\n",
              "      border-radius: 50%;\n",
              "      cursor: pointer;\n",
              "      display: none;\n",
              "      fill: #1967D2;\n",
              "      height: 32px;\n",
              "      padding: 0 0 0 0;\n",
              "      width: 32px;\n",
              "    }\n",
              "\n",
              "    .colab-df-convert:hover {\n",
              "      background-color: #E2EBFA;\n",
              "      box-shadow: 0px 1px 2px rgba(60, 64, 67, 0.3), 0px 1px 3px 1px rgba(60, 64, 67, 0.15);\n",
              "      fill: #174EA6;\n",
              "    }\n",
              "\n",
              "    [theme=dark] .colab-df-convert {\n",
              "      background-color: #3B4455;\n",
              "      fill: #D2E3FC;\n",
              "    }\n",
              "\n",
              "    [theme=dark] .colab-df-convert:hover {\n",
              "      background-color: #434B5C;\n",
              "      box-shadow: 0px 1px 3px 1px rgba(0, 0, 0, 0.15);\n",
              "      filter: drop-shadow(0px 1px 2px rgba(0, 0, 0, 0.3));\n",
              "      fill: #FFFFFF;\n",
              "    }\n",
              "  </style>\n",
              "\n",
              "      <script>\n",
              "        const buttonEl =\n",
              "          document.querySelector('#df-58d2ab77-058b-4a08-ad51-bbdace6b466f button.colab-df-convert');\n",
              "        buttonEl.style.display =\n",
              "          google.colab.kernel.accessAllowed ? 'block' : 'none';\n",
              "\n",
              "        async function convertToInteractive(key) {\n",
              "          const element = document.querySelector('#df-58d2ab77-058b-4a08-ad51-bbdace6b466f');\n",
              "          const dataTable =\n",
              "            await google.colab.kernel.invokeFunction('convertToInteractive',\n",
              "                                                     [key], {});\n",
              "          if (!dataTable) return;\n",
              "\n",
              "          const docLinkHtml = 'Like what you see? Visit the ' +\n",
              "            '<a target=\"_blank\" href=https://colab.research.google.com/notebooks/data_table.ipynb>data table notebook</a>'\n",
              "            + ' to learn more about interactive tables.';\n",
              "          element.innerHTML = '';\n",
              "          dataTable['output_type'] = 'display_data';\n",
              "          await google.colab.output.renderOutput(dataTable, element);\n",
              "          const docLink = document.createElement('div');\n",
              "          docLink.innerHTML = docLinkHtml;\n",
              "          element.appendChild(docLink);\n",
              "        }\n",
              "      </script>\n",
              "    </div>\n",
              "  </div>\n",
              "  "
            ]
          },
          "metadata": {},
          "execution_count": 20
        }
      ]
    },
    {
      "cell_type": "markdown",
      "metadata": {
        "id": "HnWR82eZ2tIv"
      },
      "source": [
        "### Task 5\n",
        "\n",
        "Calculate cost of one minute of speaking for each plan: day, eve, night, intl.\n",
        "Check if the cost is different for different areas."
      ]
    },
    {
      "cell_type": "code",
      "source": [
        "train['cost of one minute day'] = train['Total day charge']/train['Total day minutes']\n",
        "train['cost of one minute eve'] = train['Total eve charge']/train['Total eve minutes']\n",
        "train['cost of one minute night'] = train['Total night charge']/train['Total night minutes']\n",
        "train['cost of one minute intl'] = train['Total intl charge']/train['Total intl minutes']"
      ],
      "metadata": {
        "id": "t8Pd_7HZudgY"
      },
      "execution_count": null,
      "outputs": []
    },
    {
      "cell_type": "code",
      "source": [
        "for i in range(len(train)):\n",
        "  x = train.iloc[i]\n",
        "  if isNaN(x['cost of one minute day']):\n",
        "    train['cost of one minute day'].iloc[i] = 0\n",
        "  if isNaN(x['cost of one minute eve']):\n",
        "    train['cost of one minute eve'].iloc[i] = 0\n",
        "  if isNaN(x['cost of one minute night']):\n",
        "    train['cost of one minute night'].iloc[i] = 0\n",
        "  if isNaN(x['cost of one minute intl']):\n",
        "    train['cost of one minute intl'].iloc[i] = 0"
      ],
      "metadata": {
        "colab": {
          "base_uri": "https://localhost:8080/"
        },
        "id": "oDHg6VzKD9Gm",
        "outputId": "82b45ed1-26f4-4cb2-da2d-a080a065d1ce"
      },
      "execution_count": null,
      "outputs": [
        {
          "output_type": "stream",
          "name": "stderr",
          "text": [
            "/usr/local/lib/python3.8/dist-packages/pandas/core/indexing.py:1732: SettingWithCopyWarning: \n",
            "A value is trying to be set on a copy of a slice from a DataFrame\n",
            "\n",
            "See the caveats in the documentation: https://pandas.pydata.org/pandas-docs/stable/user_guide/indexing.html#returning-a-view-versus-a-copy\n",
            "  self._setitem_single_block(indexer, value, name)\n"
          ]
        }
      ]
    },
    {
      "cell_type": "code",
      "source": [
        "train[['cost of one minute day','cost of one minute eve','cost of one minute night','cost of one minute intl','Area code','State']].drop_duplicates()"
      ],
      "metadata": {
        "colab": {
          "base_uri": "https://localhost:8080/",
          "height": 424
        },
        "id": "83oEN5haEjNX",
        "outputId": "c4f569f1-99ab-4d26-a54f-e6668948bc32"
      },
      "execution_count": null,
      "outputs": [
        {
          "output_type": "execute_result",
          "data": {
            "text/plain": [
              "      cost of one minute day  cost of one minute eve  \\\n",
              "0                   0.170011                0.084991   \n",
              "1                   0.170022                0.085023   \n",
              "2                   0.169987                0.085000   \n",
              "3                   0.169969                0.084985   \n",
              "4                   0.170019                0.085019   \n",
              "...                      ...                     ...   \n",
              "2494                0.170005                0.084995   \n",
              "2495                0.170010                0.085006   \n",
              "2496                0.169994                0.085017   \n",
              "2497                0.170020                0.085009   \n",
              "2498                0.170012                0.084990   \n",
              "\n",
              "      cost of one minute night  cost of one minute intl Area code State  \n",
              "0                     0.044990                 0.270000       415    MN  \n",
              "1                     0.045000                 0.269697       408    AR  \n",
              "2                     0.044979                 0.270149       415    ND  \n",
              "3                     0.044989                 0.269643       408    AL  \n",
              "4                     0.044980                 0.270588       510    DE  \n",
              "...                        ...                      ...       ...   ...  \n",
              "2494                  0.045022                 0.269828       415    PA  \n",
              "2495                  0.044988                 0.270000       415    MI  \n",
              "2496                  0.044983                 0.270248       510    MN  \n",
              "2497                  0.044994                 0.269892       415    WY  \n",
              "2498                  0.045006                 0.270330       408    NY  \n",
              "\n",
              "[2499 rows x 6 columns]"
            ],
            "text/html": [
              "\n",
              "  <div id=\"df-1bf56d71-94d3-4a4b-a909-cbd7ee7cf582\">\n",
              "    <div class=\"colab-df-container\">\n",
              "      <div>\n",
              "<style scoped>\n",
              "    .dataframe tbody tr th:only-of-type {\n",
              "        vertical-align: middle;\n",
              "    }\n",
              "\n",
              "    .dataframe tbody tr th {\n",
              "        vertical-align: top;\n",
              "    }\n",
              "\n",
              "    .dataframe thead th {\n",
              "        text-align: right;\n",
              "    }\n",
              "</style>\n",
              "<table border=\"1\" class=\"dataframe\">\n",
              "  <thead>\n",
              "    <tr style=\"text-align: right;\">\n",
              "      <th></th>\n",
              "      <th>cost of one minute day</th>\n",
              "      <th>cost of one minute eve</th>\n",
              "      <th>cost of one minute night</th>\n",
              "      <th>cost of one minute intl</th>\n",
              "      <th>Area code</th>\n",
              "      <th>State</th>\n",
              "    </tr>\n",
              "  </thead>\n",
              "  <tbody>\n",
              "    <tr>\n",
              "      <th>0</th>\n",
              "      <td>0.170011</td>\n",
              "      <td>0.084991</td>\n",
              "      <td>0.044990</td>\n",
              "      <td>0.270000</td>\n",
              "      <td>415</td>\n",
              "      <td>MN</td>\n",
              "    </tr>\n",
              "    <tr>\n",
              "      <th>1</th>\n",
              "      <td>0.170022</td>\n",
              "      <td>0.085023</td>\n",
              "      <td>0.045000</td>\n",
              "      <td>0.269697</td>\n",
              "      <td>408</td>\n",
              "      <td>AR</td>\n",
              "    </tr>\n",
              "    <tr>\n",
              "      <th>2</th>\n",
              "      <td>0.169987</td>\n",
              "      <td>0.085000</td>\n",
              "      <td>0.044979</td>\n",
              "      <td>0.270149</td>\n",
              "      <td>415</td>\n",
              "      <td>ND</td>\n",
              "    </tr>\n",
              "    <tr>\n",
              "      <th>3</th>\n",
              "      <td>0.169969</td>\n",
              "      <td>0.084985</td>\n",
              "      <td>0.044989</td>\n",
              "      <td>0.269643</td>\n",
              "      <td>408</td>\n",
              "      <td>AL</td>\n",
              "    </tr>\n",
              "    <tr>\n",
              "      <th>4</th>\n",
              "      <td>0.170019</td>\n",
              "      <td>0.085019</td>\n",
              "      <td>0.044980</td>\n",
              "      <td>0.270588</td>\n",
              "      <td>510</td>\n",
              "      <td>DE</td>\n",
              "    </tr>\n",
              "    <tr>\n",
              "      <th>...</th>\n",
              "      <td>...</td>\n",
              "      <td>...</td>\n",
              "      <td>...</td>\n",
              "      <td>...</td>\n",
              "      <td>...</td>\n",
              "      <td>...</td>\n",
              "    </tr>\n",
              "    <tr>\n",
              "      <th>2494</th>\n",
              "      <td>0.170005</td>\n",
              "      <td>0.084995</td>\n",
              "      <td>0.045022</td>\n",
              "      <td>0.269828</td>\n",
              "      <td>415</td>\n",
              "      <td>PA</td>\n",
              "    </tr>\n",
              "    <tr>\n",
              "      <th>2495</th>\n",
              "      <td>0.170010</td>\n",
              "      <td>0.085006</td>\n",
              "      <td>0.044988</td>\n",
              "      <td>0.270000</td>\n",
              "      <td>415</td>\n",
              "      <td>MI</td>\n",
              "    </tr>\n",
              "    <tr>\n",
              "      <th>2496</th>\n",
              "      <td>0.169994</td>\n",
              "      <td>0.085017</td>\n",
              "      <td>0.044983</td>\n",
              "      <td>0.270248</td>\n",
              "      <td>510</td>\n",
              "      <td>MN</td>\n",
              "    </tr>\n",
              "    <tr>\n",
              "      <th>2497</th>\n",
              "      <td>0.170020</td>\n",
              "      <td>0.085009</td>\n",
              "      <td>0.044994</td>\n",
              "      <td>0.269892</td>\n",
              "      <td>415</td>\n",
              "      <td>WY</td>\n",
              "    </tr>\n",
              "    <tr>\n",
              "      <th>2498</th>\n",
              "      <td>0.170012</td>\n",
              "      <td>0.084990</td>\n",
              "      <td>0.045006</td>\n",
              "      <td>0.270330</td>\n",
              "      <td>408</td>\n",
              "      <td>NY</td>\n",
              "    </tr>\n",
              "  </tbody>\n",
              "</table>\n",
              "<p>2499 rows × 6 columns</p>\n",
              "</div>\n",
              "      <button class=\"colab-df-convert\" onclick=\"convertToInteractive('df-1bf56d71-94d3-4a4b-a909-cbd7ee7cf582')\"\n",
              "              title=\"Convert this dataframe to an interactive table.\"\n",
              "              style=\"display:none;\">\n",
              "        \n",
              "  <svg xmlns=\"http://www.w3.org/2000/svg\" height=\"24px\"viewBox=\"0 0 24 24\"\n",
              "       width=\"24px\">\n",
              "    <path d=\"M0 0h24v24H0V0z\" fill=\"none\"/>\n",
              "    <path d=\"M18.56 5.44l.94 2.06.94-2.06 2.06-.94-2.06-.94-.94-2.06-.94 2.06-2.06.94zm-11 1L8.5 8.5l.94-2.06 2.06-.94-2.06-.94L8.5 2.5l-.94 2.06-2.06.94zm10 10l.94 2.06.94-2.06 2.06-.94-2.06-.94-.94-2.06-.94 2.06-2.06.94z\"/><path d=\"M17.41 7.96l-1.37-1.37c-.4-.4-.92-.59-1.43-.59-.52 0-1.04.2-1.43.59L10.3 9.45l-7.72 7.72c-.78.78-.78 2.05 0 2.83L4 21.41c.39.39.9.59 1.41.59.51 0 1.02-.2 1.41-.59l7.78-7.78 2.81-2.81c.8-.78.8-2.07 0-2.86zM5.41 20L4 18.59l7.72-7.72 1.47 1.35L5.41 20z\"/>\n",
              "  </svg>\n",
              "      </button>\n",
              "      \n",
              "  <style>\n",
              "    .colab-df-container {\n",
              "      display:flex;\n",
              "      flex-wrap:wrap;\n",
              "      gap: 12px;\n",
              "    }\n",
              "\n",
              "    .colab-df-convert {\n",
              "      background-color: #E8F0FE;\n",
              "      border: none;\n",
              "      border-radius: 50%;\n",
              "      cursor: pointer;\n",
              "      display: none;\n",
              "      fill: #1967D2;\n",
              "      height: 32px;\n",
              "      padding: 0 0 0 0;\n",
              "      width: 32px;\n",
              "    }\n",
              "\n",
              "    .colab-df-convert:hover {\n",
              "      background-color: #E2EBFA;\n",
              "      box-shadow: 0px 1px 2px rgba(60, 64, 67, 0.3), 0px 1px 3px 1px rgba(60, 64, 67, 0.15);\n",
              "      fill: #174EA6;\n",
              "    }\n",
              "\n",
              "    [theme=dark] .colab-df-convert {\n",
              "      background-color: #3B4455;\n",
              "      fill: #D2E3FC;\n",
              "    }\n",
              "\n",
              "    [theme=dark] .colab-df-convert:hover {\n",
              "      background-color: #434B5C;\n",
              "      box-shadow: 0px 1px 3px 1px rgba(0, 0, 0, 0.15);\n",
              "      filter: drop-shadow(0px 1px 2px rgba(0, 0, 0, 0.3));\n",
              "      fill: #FFFFFF;\n",
              "    }\n",
              "  </style>\n",
              "\n",
              "      <script>\n",
              "        const buttonEl =\n",
              "          document.querySelector('#df-1bf56d71-94d3-4a4b-a909-cbd7ee7cf582 button.colab-df-convert');\n",
              "        buttonEl.style.display =\n",
              "          google.colab.kernel.accessAllowed ? 'block' : 'none';\n",
              "\n",
              "        async function convertToInteractive(key) {\n",
              "          const element = document.querySelector('#df-1bf56d71-94d3-4a4b-a909-cbd7ee7cf582');\n",
              "          const dataTable =\n",
              "            await google.colab.kernel.invokeFunction('convertToInteractive',\n",
              "                                                     [key], {});\n",
              "          if (!dataTable) return;\n",
              "\n",
              "          const docLinkHtml = 'Like what you see? Visit the ' +\n",
              "            '<a target=\"_blank\" href=https://colab.research.google.com/notebooks/data_table.ipynb>data table notebook</a>'\n",
              "            + ' to learn more about interactive tables.';\n",
              "          element.innerHTML = '';\n",
              "          dataTable['output_type'] = 'display_data';\n",
              "          await google.colab.output.renderOutput(dataTable, element);\n",
              "          const docLink = document.createElement('div');\n",
              "          docLink.innerHTML = docLinkHtml;\n",
              "          element.appendChild(docLink);\n",
              "        }\n",
              "      </script>\n",
              "    </div>\n",
              "  </div>\n",
              "  "
            ]
          },
          "metadata": {},
          "execution_count": 23
        }
      ]
    },
    {
      "cell_type": "markdown",
      "metadata": {
        "id": "5bHUEB9v2tIw"
      },
      "source": [
        "### Task 6\n",
        "\n",
        "For each state and each plan (International and Voice mail, feature `Plans`) calculate number of clients, subscribed to the plan, and their fraction **in the state**.\n",
        "\n",
        "You should create dataframe that looks like:\n",
        "\n",
        "<table border=\"1\" class=\"dataframe\">\n",
        "  <thead>\n",
        "    <tr style=\"text-align: right;\">\n",
        "      <th></th>\n",
        "      <th>State</th>\n",
        "      <th>Plan</th>\n",
        "      <th>Count</th>\n",
        "      <th>Frac</th>\n",
        "    </tr>\n",
        "  </thead>\n",
        "  <tbody>\n",
        "    <tr>\n",
        "      <th>0</th>\n",
        "      <td>state_1</td>\n",
        "      <td>International</td>\n",
        "      <td>40</td>\n",
        "      <td>0.4</td>\n",
        "    </tr>\n",
        "    <tr>\n",
        "      <th>1</th>\n",
        "      <td>state_1</td>\n",
        "      <td>Voice mail</td>\n",
        "      <td>30</td>\n",
        "      <td>0.3</td>\n",
        "    </tr>\n",
        "    <tr>\n",
        "      <th>2</th>\n",
        "      <td>state_2</td>\n",
        "      <td>International</td>\n",
        "      <td>25</td>\n",
        "      <td>0.5</td>\n",
        "    </tr>\n",
        "    <tr>\n",
        "      <th>3</th>\n",
        "      <td>state_2</td>\n",
        "      <td>Voice mail</td>\n",
        "      <td>35</td>\n",
        "      <td>0.7</td>\n",
        "    </tr>\n",
        "  </tbody>\n",
        "</table>"
      ]
    },
    {
      "cell_type": "code",
      "source": [
        "count_by_state = train[['State','ID']].groupby(by=['State'],as_index=False).count()"
      ],
      "metadata": {
        "id": "i1GV9SrayME6"
      },
      "execution_count": null,
      "outputs": []
    },
    {
      "cell_type": "code",
      "execution_count": null,
      "metadata": {
        "collapsed": true,
        "id": "YyacT7Rx2tIw"
      },
      "outputs": [],
      "source": [
        "count_by_state_plans = train[['State','Plans','ID']].groupby(by=['State','Plans'],as_index=False).count()"
      ]
    },
    {
      "cell_type": "code",
      "source": [
        "count_merge = count_by_state_plans.merge(count_by_state, how='left', on='State')"
      ],
      "metadata": {
        "id": "RmwKKHfvzQkP"
      },
      "execution_count": null,
      "outputs": []
    },
    {
      "cell_type": "code",
      "source": [
        "count_merge['Frac'] = count_merge['ID_x']/count_merge['ID_y']"
      ],
      "metadata": {
        "id": "tB0SNJGK0kuW"
      },
      "execution_count": null,
      "outputs": []
    },
    {
      "cell_type": "code",
      "source": [
        "count_merge = count_merge.rename(columns={\"ID_x\": \"Count\"})[['State','Plans','Count','Frac']]"
      ],
      "metadata": {
        "id": "ZYuBfp6J00Fu"
      },
      "execution_count": null,
      "outputs": []
    },
    {
      "cell_type": "code",
      "source": [
        "count_merge"
      ],
      "metadata": {
        "colab": {
          "base_uri": "https://localhost:8080/",
          "height": 424
        },
        "id": "v2Jtvais1M0o",
        "outputId": "1061afa1-44c2-4785-ba60-991065f0ff52"
      },
      "execution_count": null,
      "outputs": [
        {
          "output_type": "execute_result",
          "data": {
            "text/plain": [
              "    State                      Plans  Count      Frac\n",
              "0      AK              International      1  0.027778\n",
              "1      AK  International, Voice mail      2  0.055556\n",
              "2      AK                       None     24  0.666667\n",
              "3      AK                 Voice mail      9  0.250000\n",
              "4      AL              International      5  0.079365\n",
              "..    ...                        ...    ...       ...\n",
              "188    WV                 Voice mail     14  0.172840\n",
              "189    WY              International      7  0.125000\n",
              "190    WY  International, Voice mail      1  0.017857\n",
              "191    WY                       None     40  0.714286\n",
              "192    WY                 Voice mail      8  0.142857\n",
              "\n",
              "[193 rows x 4 columns]"
            ],
            "text/html": [
              "\n",
              "  <div id=\"df-2334702b-dd48-42e6-8479-ca6143c2271b\">\n",
              "    <div class=\"colab-df-container\">\n",
              "      <div>\n",
              "<style scoped>\n",
              "    .dataframe tbody tr th:only-of-type {\n",
              "        vertical-align: middle;\n",
              "    }\n",
              "\n",
              "    .dataframe tbody tr th {\n",
              "        vertical-align: top;\n",
              "    }\n",
              "\n",
              "    .dataframe thead th {\n",
              "        text-align: right;\n",
              "    }\n",
              "</style>\n",
              "<table border=\"1\" class=\"dataframe\">\n",
              "  <thead>\n",
              "    <tr style=\"text-align: right;\">\n",
              "      <th></th>\n",
              "      <th>State</th>\n",
              "      <th>Plans</th>\n",
              "      <th>Count</th>\n",
              "      <th>Frac</th>\n",
              "    </tr>\n",
              "  </thead>\n",
              "  <tbody>\n",
              "    <tr>\n",
              "      <th>0</th>\n",
              "      <td>AK</td>\n",
              "      <td>International</td>\n",
              "      <td>1</td>\n",
              "      <td>0.027778</td>\n",
              "    </tr>\n",
              "    <tr>\n",
              "      <th>1</th>\n",
              "      <td>AK</td>\n",
              "      <td>International, Voice mail</td>\n",
              "      <td>2</td>\n",
              "      <td>0.055556</td>\n",
              "    </tr>\n",
              "    <tr>\n",
              "      <th>2</th>\n",
              "      <td>AK</td>\n",
              "      <td>None</td>\n",
              "      <td>24</td>\n",
              "      <td>0.666667</td>\n",
              "    </tr>\n",
              "    <tr>\n",
              "      <th>3</th>\n",
              "      <td>AK</td>\n",
              "      <td>Voice mail</td>\n",
              "      <td>9</td>\n",
              "      <td>0.250000</td>\n",
              "    </tr>\n",
              "    <tr>\n",
              "      <th>4</th>\n",
              "      <td>AL</td>\n",
              "      <td>International</td>\n",
              "      <td>5</td>\n",
              "      <td>0.079365</td>\n",
              "    </tr>\n",
              "    <tr>\n",
              "      <th>...</th>\n",
              "      <td>...</td>\n",
              "      <td>...</td>\n",
              "      <td>...</td>\n",
              "      <td>...</td>\n",
              "    </tr>\n",
              "    <tr>\n",
              "      <th>188</th>\n",
              "      <td>WV</td>\n",
              "      <td>Voice mail</td>\n",
              "      <td>14</td>\n",
              "      <td>0.172840</td>\n",
              "    </tr>\n",
              "    <tr>\n",
              "      <th>189</th>\n",
              "      <td>WY</td>\n",
              "      <td>International</td>\n",
              "      <td>7</td>\n",
              "      <td>0.125000</td>\n",
              "    </tr>\n",
              "    <tr>\n",
              "      <th>190</th>\n",
              "      <td>WY</td>\n",
              "      <td>International, Voice mail</td>\n",
              "      <td>1</td>\n",
              "      <td>0.017857</td>\n",
              "    </tr>\n",
              "    <tr>\n",
              "      <th>191</th>\n",
              "      <td>WY</td>\n",
              "      <td>None</td>\n",
              "      <td>40</td>\n",
              "      <td>0.714286</td>\n",
              "    </tr>\n",
              "    <tr>\n",
              "      <th>192</th>\n",
              "      <td>WY</td>\n",
              "      <td>Voice mail</td>\n",
              "      <td>8</td>\n",
              "      <td>0.142857</td>\n",
              "    </tr>\n",
              "  </tbody>\n",
              "</table>\n",
              "<p>193 rows × 4 columns</p>\n",
              "</div>\n",
              "      <button class=\"colab-df-convert\" onclick=\"convertToInteractive('df-2334702b-dd48-42e6-8479-ca6143c2271b')\"\n",
              "              title=\"Convert this dataframe to an interactive table.\"\n",
              "              style=\"display:none;\">\n",
              "        \n",
              "  <svg xmlns=\"http://www.w3.org/2000/svg\" height=\"24px\"viewBox=\"0 0 24 24\"\n",
              "       width=\"24px\">\n",
              "    <path d=\"M0 0h24v24H0V0z\" fill=\"none\"/>\n",
              "    <path d=\"M18.56 5.44l.94 2.06.94-2.06 2.06-.94-2.06-.94-.94-2.06-.94 2.06-2.06.94zm-11 1L8.5 8.5l.94-2.06 2.06-.94-2.06-.94L8.5 2.5l-.94 2.06-2.06.94zm10 10l.94 2.06.94-2.06 2.06-.94-2.06-.94-.94-2.06-.94 2.06-2.06.94z\"/><path d=\"M17.41 7.96l-1.37-1.37c-.4-.4-.92-.59-1.43-.59-.52 0-1.04.2-1.43.59L10.3 9.45l-7.72 7.72c-.78.78-.78 2.05 0 2.83L4 21.41c.39.39.9.59 1.41.59.51 0 1.02-.2 1.41-.59l7.78-7.78 2.81-2.81c.8-.78.8-2.07 0-2.86zM5.41 20L4 18.59l7.72-7.72 1.47 1.35L5.41 20z\"/>\n",
              "  </svg>\n",
              "      </button>\n",
              "      \n",
              "  <style>\n",
              "    .colab-df-container {\n",
              "      display:flex;\n",
              "      flex-wrap:wrap;\n",
              "      gap: 12px;\n",
              "    }\n",
              "\n",
              "    .colab-df-convert {\n",
              "      background-color: #E8F0FE;\n",
              "      border: none;\n",
              "      border-radius: 50%;\n",
              "      cursor: pointer;\n",
              "      display: none;\n",
              "      fill: #1967D2;\n",
              "      height: 32px;\n",
              "      padding: 0 0 0 0;\n",
              "      width: 32px;\n",
              "    }\n",
              "\n",
              "    .colab-df-convert:hover {\n",
              "      background-color: #E2EBFA;\n",
              "      box-shadow: 0px 1px 2px rgba(60, 64, 67, 0.3), 0px 1px 3px 1px rgba(60, 64, 67, 0.15);\n",
              "      fill: #174EA6;\n",
              "    }\n",
              "\n",
              "    [theme=dark] .colab-df-convert {\n",
              "      background-color: #3B4455;\n",
              "      fill: #D2E3FC;\n",
              "    }\n",
              "\n",
              "    [theme=dark] .colab-df-convert:hover {\n",
              "      background-color: #434B5C;\n",
              "      box-shadow: 0px 1px 3px 1px rgba(0, 0, 0, 0.15);\n",
              "      filter: drop-shadow(0px 1px 2px rgba(0, 0, 0, 0.3));\n",
              "      fill: #FFFFFF;\n",
              "    }\n",
              "  </style>\n",
              "\n",
              "      <script>\n",
              "        const buttonEl =\n",
              "          document.querySelector('#df-2334702b-dd48-42e6-8479-ca6143c2271b button.colab-df-convert');\n",
              "        buttonEl.style.display =\n",
              "          google.colab.kernel.accessAllowed ? 'block' : 'none';\n",
              "\n",
              "        async function convertToInteractive(key) {\n",
              "          const element = document.querySelector('#df-2334702b-dd48-42e6-8479-ca6143c2271b');\n",
              "          const dataTable =\n",
              "            await google.colab.kernel.invokeFunction('convertToInteractive',\n",
              "                                                     [key], {});\n",
              "          if (!dataTable) return;\n",
              "\n",
              "          const docLinkHtml = 'Like what you see? Visit the ' +\n",
              "            '<a target=\"_blank\" href=https://colab.research.google.com/notebooks/data_table.ipynb>data table notebook</a>'\n",
              "            + ' to learn more about interactive tables.';\n",
              "          element.innerHTML = '';\n",
              "          dataTable['output_type'] = 'display_data';\n",
              "          await google.colab.output.renderOutput(dataTable, element);\n",
              "          const docLink = document.createElement('div');\n",
              "          docLink.innerHTML = docLinkHtml;\n",
              "          element.appendChild(docLink);\n",
              "        }\n",
              "      </script>\n",
              "    </div>\n",
              "  </div>\n",
              "  "
            ]
          },
          "metadata": {},
          "execution_count": 29
        }
      ]
    },
    {
      "cell_type": "markdown",
      "metadata": {
        "id": "c4TacaN22tIw"
      },
      "source": [
        "### Task 7\n",
        "\n",
        "Perform digitalization for categorical features."
      ]
    },
    {
      "cell_type": "markdown",
      "source": [
        "We have some object features - Sex, State, Phone number, Plans, Area Code. We can't use Phone number as a feature (espesially when we have area code)."
      ],
      "metadata": {
        "id": "jJWajJOU3qo8"
      }
    },
    {
      "cell_type": "code",
      "source": [
        "ct = ColumnTransformer(\n",
        "    [\n",
        "        ('Sex', OneHotEncoder(sparse=False), ['Sex']),\n",
        "        ('State', OneHotEncoder(sparse=False), ['State']),\n",
        "        ('Plans', OneHotEncoder(sparse=False), ['Plans']),\n",
        "        ('Area code', OneHotEncoder(sparse=False), ['Area code'])\n",
        "    ],\n",
        "    remainder='drop'\n",
        ")\n",
        "ct.fit(train)"
      ],
      "metadata": {
        "colab": {
          "base_uri": "https://localhost:8080/"
        },
        "id": "ufLT7NRi3dOF",
        "outputId": "33a0a2b4-325b-42f1-950f-bd0b4dfba4a8"
      },
      "execution_count": null,
      "outputs": [
        {
          "output_type": "execute_result",
          "data": {
            "text/plain": [
              "ColumnTransformer(transformers=[('Sex', OneHotEncoder(sparse=False), ['Sex']),\n",
              "                                ('State', OneHotEncoder(sparse=False),\n",
              "                                 ['State']),\n",
              "                                ('Plans', OneHotEncoder(sparse=False),\n",
              "                                 ['Plans']),\n",
              "                                ('Area code', OneHotEncoder(sparse=False),\n",
              "                                 ['Area code'])])"
            ]
          },
          "metadata": {},
          "execution_count": 30
        }
      ]
    },
    {
      "cell_type": "code",
      "source": [
        "X = pd.DataFrame(ct.transform(train),\n",
        "                 columns=[x.replace('_x0', '') for x in ct.get_feature_names()])\n",
        "\n",
        "train.drop(['Sex', 'State', 'Plans', 'Area code'], axis=1, inplace=True)\n",
        "\n",
        "train = train.join(X)\n",
        "\n",
        "train.head(10)"
      ],
      "metadata": {
        "colab": {
          "base_uri": "https://localhost:8080/",
          "height": 873
        },
        "id": "-crU8D6w3lMs",
        "outputId": "928bc452-b4be-4e1e-8c6a-dec827f5dec7"
      },
      "execution_count": null,
      "outputs": [
        {
          "output_type": "stream",
          "name": "stderr",
          "text": [
            "/usr/local/lib/python3.8/dist-packages/sklearn/utils/deprecation.py:87: FutureWarning: Function get_feature_names is deprecated; get_feature_names is deprecated in 1.0 and will be removed in 1.2. Please use get_feature_names_out instead.\n",
            "  warnings.warn(msg, category=FutureWarning)\n"
          ]
        },
        {
          "output_type": "execute_result",
          "data": {
            "text/plain": [
              "      ID   Age  Account length   Phone number  Number vmail messages  \\\n",
              "0  10001  35.0             150  415 695 24 37                     28   \n",
              "1  10010  43.0              87  408 673 99 45                      0   \n",
              "2  10029  39.0             180  415 693 30 62                      0   \n",
              "3  10030  36.0             200  408 248 27 61                      0   \n",
              "4  10122  37.0             122  510 297 57 75                      0   \n",
              "5  10224  37.0              44  415 246 36 36                      0   \n",
              "6  10243  33.0             112  415 942 59 82                     22   \n",
              "7  10264  26.0              26  415 590 46 78                      0   \n",
              "8  10327  33.0              76  415 476 36 34                      0   \n",
              "9  10449  29.0              81  510 907 61 26                      0   \n",
              "\n",
              "   Total day minutes  Total day calls  Total day charge  Total eve minutes  \\\n",
              "0              174.4             75.0             29.65              169.9   \n",
              "1              185.8            119.0             31.59              192.3   \n",
              "2              224.9            105.0             38.23              250.0   \n",
              "3              128.2             87.0             21.79              133.2   \n",
              "4              157.1            134.0             26.71              184.9   \n",
              "5              240.3            146.0             40.85              164.6   \n",
              "6              181.8            110.0             30.91              228.1   \n",
              "7              234.5            109.0             39.87              216.5   \n",
              "8              224.4            121.0             38.15              147.9   \n",
              "9              261.4            141.0             44.44              215.7   \n",
              "\n",
              "   Total eve calls  Total eve charge  Total night minutes  ...  State__VT  \\\n",
              "0             80.0             14.44                201.6  ...        0.0   \n",
              "1             83.0             16.35                200.0  ...        0.0   \n",
              "2            101.0             21.25                216.1  ...        0.0   \n",
              "3            105.0             11.32                177.6  ...        0.0   \n",
              "4            122.0             15.72                197.2  ...        0.0   \n",
              "5             83.0             13.99                240.7  ...        0.0   \n",
              "6            123.0             19.39                262.7  ...        0.0   \n",
              "7            129.0             18.40                191.6  ...        0.0   \n",
              "8             97.0             12.57                183.8  ...        0.0   \n",
              "9            102.0             18.33                271.8  ...        0.0   \n",
              "\n",
              "   State__WA  State__WI  State__WV  State__WY  Plans__International  \\\n",
              "0        0.0        0.0        0.0        0.0                   0.0   \n",
              "1        0.0        0.0        0.0        0.0                   0.0   \n",
              "2        0.0        0.0        0.0        0.0                   0.0   \n",
              "3        0.0        0.0        0.0        0.0                   0.0   \n",
              "4        0.0        0.0        0.0        0.0                   0.0   \n",
              "5        0.0        0.0        0.0        0.0                   0.0   \n",
              "6        0.0        0.0        0.0        0.0                   0.0   \n",
              "7        0.0        0.0        0.0        0.0                   0.0   \n",
              "8        0.0        0.0        0.0        0.0                   0.0   \n",
              "9        0.0        0.0        0.0        0.0                   0.0   \n",
              "\n",
              "   Plans__International, Voice mail  Plans__None  Plans__Voice mail  \\\n",
              "0                               0.0          0.0                1.0   \n",
              "1                               0.0          1.0                0.0   \n",
              "2                               0.0          1.0                0.0   \n",
              "3                               0.0          1.0                0.0   \n",
              "4                               0.0          1.0                0.0   \n",
              "5                               0.0          1.0                0.0   \n",
              "6                               0.0          0.0                1.0   \n",
              "7                               0.0          1.0                0.0   \n",
              "8                               0.0          1.0                0.0   \n",
              "9                               0.0          1.0                0.0   \n",
              "\n",
              "   Area code__408  Area code__415  Area code__510  \n",
              "0             0.0             1.0             0.0  \n",
              "1             1.0             0.0             0.0  \n",
              "2             0.0             1.0             0.0  \n",
              "3             1.0             0.0             0.0  \n",
              "4             0.0             0.0             1.0  \n",
              "5             0.0             1.0             0.0  \n",
              "6             0.0             1.0             0.0  \n",
              "7             0.0             1.0             0.0  \n",
              "8             0.0             1.0             0.0  \n",
              "9             0.0             0.0             1.0  \n",
              "\n",
              "[10 rows x 84 columns]"
            ],
            "text/html": [
              "\n",
              "  <div id=\"df-af162f41-c290-48d0-85b4-e688742db9b8\">\n",
              "    <div class=\"colab-df-container\">\n",
              "      <div>\n",
              "<style scoped>\n",
              "    .dataframe tbody tr th:only-of-type {\n",
              "        vertical-align: middle;\n",
              "    }\n",
              "\n",
              "    .dataframe tbody tr th {\n",
              "        vertical-align: top;\n",
              "    }\n",
              "\n",
              "    .dataframe thead th {\n",
              "        text-align: right;\n",
              "    }\n",
              "</style>\n",
              "<table border=\"1\" class=\"dataframe\">\n",
              "  <thead>\n",
              "    <tr style=\"text-align: right;\">\n",
              "      <th></th>\n",
              "      <th>ID</th>\n",
              "      <th>Age</th>\n",
              "      <th>Account length</th>\n",
              "      <th>Phone number</th>\n",
              "      <th>Number vmail messages</th>\n",
              "      <th>Total day minutes</th>\n",
              "      <th>Total day calls</th>\n",
              "      <th>Total day charge</th>\n",
              "      <th>Total eve minutes</th>\n",
              "      <th>Total eve calls</th>\n",
              "      <th>Total eve charge</th>\n",
              "      <th>Total night minutes</th>\n",
              "      <th>...</th>\n",
              "      <th>State__VT</th>\n",
              "      <th>State__WA</th>\n",
              "      <th>State__WI</th>\n",
              "      <th>State__WV</th>\n",
              "      <th>State__WY</th>\n",
              "      <th>Plans__International</th>\n",
              "      <th>Plans__International, Voice mail</th>\n",
              "      <th>Plans__None</th>\n",
              "      <th>Plans__Voice mail</th>\n",
              "      <th>Area code__408</th>\n",
              "      <th>Area code__415</th>\n",
              "      <th>Area code__510</th>\n",
              "    </tr>\n",
              "  </thead>\n",
              "  <tbody>\n",
              "    <tr>\n",
              "      <th>0</th>\n",
              "      <td>10001</td>\n",
              "      <td>35.0</td>\n",
              "      <td>150</td>\n",
              "      <td>415 695 24 37</td>\n",
              "      <td>28</td>\n",
              "      <td>174.4</td>\n",
              "      <td>75.0</td>\n",
              "      <td>29.65</td>\n",
              "      <td>169.9</td>\n",
              "      <td>80.0</td>\n",
              "      <td>14.44</td>\n",
              "      <td>201.6</td>\n",
              "      <td>...</td>\n",
              "      <td>0.0</td>\n",
              "      <td>0.0</td>\n",
              "      <td>0.0</td>\n",
              "      <td>0.0</td>\n",
              "      <td>0.0</td>\n",
              "      <td>0.0</td>\n",
              "      <td>0.0</td>\n",
              "      <td>0.0</td>\n",
              "      <td>1.0</td>\n",
              "      <td>0.0</td>\n",
              "      <td>1.0</td>\n",
              "      <td>0.0</td>\n",
              "    </tr>\n",
              "    <tr>\n",
              "      <th>1</th>\n",
              "      <td>10010</td>\n",
              "      <td>43.0</td>\n",
              "      <td>87</td>\n",
              "      <td>408 673 99 45</td>\n",
              "      <td>0</td>\n",
              "      <td>185.8</td>\n",
              "      <td>119.0</td>\n",
              "      <td>31.59</td>\n",
              "      <td>192.3</td>\n",
              "      <td>83.0</td>\n",
              "      <td>16.35</td>\n",
              "      <td>200.0</td>\n",
              "      <td>...</td>\n",
              "      <td>0.0</td>\n",
              "      <td>0.0</td>\n",
              "      <td>0.0</td>\n",
              "      <td>0.0</td>\n",
              "      <td>0.0</td>\n",
              "      <td>0.0</td>\n",
              "      <td>0.0</td>\n",
              "      <td>1.0</td>\n",
              "      <td>0.0</td>\n",
              "      <td>1.0</td>\n",
              "      <td>0.0</td>\n",
              "      <td>0.0</td>\n",
              "    </tr>\n",
              "    <tr>\n",
              "      <th>2</th>\n",
              "      <td>10029</td>\n",
              "      <td>39.0</td>\n",
              "      <td>180</td>\n",
              "      <td>415 693 30 62</td>\n",
              "      <td>0</td>\n",
              "      <td>224.9</td>\n",
              "      <td>105.0</td>\n",
              "      <td>38.23</td>\n",
              "      <td>250.0</td>\n",
              "      <td>101.0</td>\n",
              "      <td>21.25</td>\n",
              "      <td>216.1</td>\n",
              "      <td>...</td>\n",
              "      <td>0.0</td>\n",
              "      <td>0.0</td>\n",
              "      <td>0.0</td>\n",
              "      <td>0.0</td>\n",
              "      <td>0.0</td>\n",
              "      <td>0.0</td>\n",
              "      <td>0.0</td>\n",
              "      <td>1.0</td>\n",
              "      <td>0.0</td>\n",
              "      <td>0.0</td>\n",
              "      <td>1.0</td>\n",
              "      <td>0.0</td>\n",
              "    </tr>\n",
              "    <tr>\n",
              "      <th>3</th>\n",
              "      <td>10030</td>\n",
              "      <td>36.0</td>\n",
              "      <td>200</td>\n",
              "      <td>408 248 27 61</td>\n",
              "      <td>0</td>\n",
              "      <td>128.2</td>\n",
              "      <td>87.0</td>\n",
              "      <td>21.79</td>\n",
              "      <td>133.2</td>\n",
              "      <td>105.0</td>\n",
              "      <td>11.32</td>\n",
              "      <td>177.6</td>\n",
              "      <td>...</td>\n",
              "      <td>0.0</td>\n",
              "      <td>0.0</td>\n",
              "      <td>0.0</td>\n",
              "      <td>0.0</td>\n",
              "      <td>0.0</td>\n",
              "      <td>0.0</td>\n",
              "      <td>0.0</td>\n",
              "      <td>1.0</td>\n",
              "      <td>0.0</td>\n",
              "      <td>1.0</td>\n",
              "      <td>0.0</td>\n",
              "      <td>0.0</td>\n",
              "    </tr>\n",
              "    <tr>\n",
              "      <th>4</th>\n",
              "      <td>10122</td>\n",
              "      <td>37.0</td>\n",
              "      <td>122</td>\n",
              "      <td>510 297 57 75</td>\n",
              "      <td>0</td>\n",
              "      <td>157.1</td>\n",
              "      <td>134.0</td>\n",
              "      <td>26.71</td>\n",
              "      <td>184.9</td>\n",
              "      <td>122.0</td>\n",
              "      <td>15.72</td>\n",
              "      <td>197.2</td>\n",
              "      <td>...</td>\n",
              "      <td>0.0</td>\n",
              "      <td>0.0</td>\n",
              "      <td>0.0</td>\n",
              "      <td>0.0</td>\n",
              "      <td>0.0</td>\n",
              "      <td>0.0</td>\n",
              "      <td>0.0</td>\n",
              "      <td>1.0</td>\n",
              "      <td>0.0</td>\n",
              "      <td>0.0</td>\n",
              "      <td>0.0</td>\n",
              "      <td>1.0</td>\n",
              "    </tr>\n",
              "    <tr>\n",
              "      <th>5</th>\n",
              "      <td>10224</td>\n",
              "      <td>37.0</td>\n",
              "      <td>44</td>\n",
              "      <td>415 246 36 36</td>\n",
              "      <td>0</td>\n",
              "      <td>240.3</td>\n",
              "      <td>146.0</td>\n",
              "      <td>40.85</td>\n",
              "      <td>164.6</td>\n",
              "      <td>83.0</td>\n",
              "      <td>13.99</td>\n",
              "      <td>240.7</td>\n",
              "      <td>...</td>\n",
              "      <td>0.0</td>\n",
              "      <td>0.0</td>\n",
              "      <td>0.0</td>\n",
              "      <td>0.0</td>\n",
              "      <td>0.0</td>\n",
              "      <td>0.0</td>\n",
              "      <td>0.0</td>\n",
              "      <td>1.0</td>\n",
              "      <td>0.0</td>\n",
              "      <td>0.0</td>\n",
              "      <td>1.0</td>\n",
              "      <td>0.0</td>\n",
              "    </tr>\n",
              "    <tr>\n",
              "      <th>6</th>\n",
              "      <td>10243</td>\n",
              "      <td>33.0</td>\n",
              "      <td>112</td>\n",
              "      <td>415 942 59 82</td>\n",
              "      <td>22</td>\n",
              "      <td>181.8</td>\n",
              "      <td>110.0</td>\n",
              "      <td>30.91</td>\n",
              "      <td>228.1</td>\n",
              "      <td>123.0</td>\n",
              "      <td>19.39</td>\n",
              "      <td>262.7</td>\n",
              "      <td>...</td>\n",
              "      <td>0.0</td>\n",
              "      <td>0.0</td>\n",
              "      <td>0.0</td>\n",
              "      <td>0.0</td>\n",
              "      <td>0.0</td>\n",
              "      <td>0.0</td>\n",
              "      <td>0.0</td>\n",
              "      <td>0.0</td>\n",
              "      <td>1.0</td>\n",
              "      <td>0.0</td>\n",
              "      <td>1.0</td>\n",
              "      <td>0.0</td>\n",
              "    </tr>\n",
              "    <tr>\n",
              "      <th>7</th>\n",
              "      <td>10264</td>\n",
              "      <td>26.0</td>\n",
              "      <td>26</td>\n",
              "      <td>415 590 46 78</td>\n",
              "      <td>0</td>\n",
              "      <td>234.5</td>\n",
              "      <td>109.0</td>\n",
              "      <td>39.87</td>\n",
              "      <td>216.5</td>\n",
              "      <td>129.0</td>\n",
              "      <td>18.40</td>\n",
              "      <td>191.6</td>\n",
              "      <td>...</td>\n",
              "      <td>0.0</td>\n",
              "      <td>0.0</td>\n",
              "      <td>0.0</td>\n",
              "      <td>0.0</td>\n",
              "      <td>0.0</td>\n",
              "      <td>0.0</td>\n",
              "      <td>0.0</td>\n",
              "      <td>1.0</td>\n",
              "      <td>0.0</td>\n",
              "      <td>0.0</td>\n",
              "      <td>1.0</td>\n",
              "      <td>0.0</td>\n",
              "    </tr>\n",
              "    <tr>\n",
              "      <th>8</th>\n",
              "      <td>10327</td>\n",
              "      <td>33.0</td>\n",
              "      <td>76</td>\n",
              "      <td>415 476 36 34</td>\n",
              "      <td>0</td>\n",
              "      <td>224.4</td>\n",
              "      <td>121.0</td>\n",
              "      <td>38.15</td>\n",
              "      <td>147.9</td>\n",
              "      <td>97.0</td>\n",
              "      <td>12.57</td>\n",
              "      <td>183.8</td>\n",
              "      <td>...</td>\n",
              "      <td>0.0</td>\n",
              "      <td>0.0</td>\n",
              "      <td>0.0</td>\n",
              "      <td>0.0</td>\n",
              "      <td>0.0</td>\n",
              "      <td>0.0</td>\n",
              "      <td>0.0</td>\n",
              "      <td>1.0</td>\n",
              "      <td>0.0</td>\n",
              "      <td>0.0</td>\n",
              "      <td>1.0</td>\n",
              "      <td>0.0</td>\n",
              "    </tr>\n",
              "    <tr>\n",
              "      <th>9</th>\n",
              "      <td>10449</td>\n",
              "      <td>29.0</td>\n",
              "      <td>81</td>\n",
              "      <td>510 907 61 26</td>\n",
              "      <td>0</td>\n",
              "      <td>261.4</td>\n",
              "      <td>141.0</td>\n",
              "      <td>44.44</td>\n",
              "      <td>215.7</td>\n",
              "      <td>102.0</td>\n",
              "      <td>18.33</td>\n",
              "      <td>271.8</td>\n",
              "      <td>...</td>\n",
              "      <td>0.0</td>\n",
              "      <td>0.0</td>\n",
              "      <td>0.0</td>\n",
              "      <td>0.0</td>\n",
              "      <td>0.0</td>\n",
              "      <td>0.0</td>\n",
              "      <td>0.0</td>\n",
              "      <td>1.0</td>\n",
              "      <td>0.0</td>\n",
              "      <td>0.0</td>\n",
              "      <td>0.0</td>\n",
              "      <td>1.0</td>\n",
              "    </tr>\n",
              "  </tbody>\n",
              "</table>\n",
              "<p>10 rows × 84 columns</p>\n",
              "</div>\n",
              "      <button class=\"colab-df-convert\" onclick=\"convertToInteractive('df-af162f41-c290-48d0-85b4-e688742db9b8')\"\n",
              "              title=\"Convert this dataframe to an interactive table.\"\n",
              "              style=\"display:none;\">\n",
              "        \n",
              "  <svg xmlns=\"http://www.w3.org/2000/svg\" height=\"24px\"viewBox=\"0 0 24 24\"\n",
              "       width=\"24px\">\n",
              "    <path d=\"M0 0h24v24H0V0z\" fill=\"none\"/>\n",
              "    <path d=\"M18.56 5.44l.94 2.06.94-2.06 2.06-.94-2.06-.94-.94-2.06-.94 2.06-2.06.94zm-11 1L8.5 8.5l.94-2.06 2.06-.94-2.06-.94L8.5 2.5l-.94 2.06-2.06.94zm10 10l.94 2.06.94-2.06 2.06-.94-2.06-.94-.94-2.06-.94 2.06-2.06.94z\"/><path d=\"M17.41 7.96l-1.37-1.37c-.4-.4-.92-.59-1.43-.59-.52 0-1.04.2-1.43.59L10.3 9.45l-7.72 7.72c-.78.78-.78 2.05 0 2.83L4 21.41c.39.39.9.59 1.41.59.51 0 1.02-.2 1.41-.59l7.78-7.78 2.81-2.81c.8-.78.8-2.07 0-2.86zM5.41 20L4 18.59l7.72-7.72 1.47 1.35L5.41 20z\"/>\n",
              "  </svg>\n",
              "      </button>\n",
              "      \n",
              "  <style>\n",
              "    .colab-df-container {\n",
              "      display:flex;\n",
              "      flex-wrap:wrap;\n",
              "      gap: 12px;\n",
              "    }\n",
              "\n",
              "    .colab-df-convert {\n",
              "      background-color: #E8F0FE;\n",
              "      border: none;\n",
              "      border-radius: 50%;\n",
              "      cursor: pointer;\n",
              "      display: none;\n",
              "      fill: #1967D2;\n",
              "      height: 32px;\n",
              "      padding: 0 0 0 0;\n",
              "      width: 32px;\n",
              "    }\n",
              "\n",
              "    .colab-df-convert:hover {\n",
              "      background-color: #E2EBFA;\n",
              "      box-shadow: 0px 1px 2px rgba(60, 64, 67, 0.3), 0px 1px 3px 1px rgba(60, 64, 67, 0.15);\n",
              "      fill: #174EA6;\n",
              "    }\n",
              "\n",
              "    [theme=dark] .colab-df-convert {\n",
              "      background-color: #3B4455;\n",
              "      fill: #D2E3FC;\n",
              "    }\n",
              "\n",
              "    [theme=dark] .colab-df-convert:hover {\n",
              "      background-color: #434B5C;\n",
              "      box-shadow: 0px 1px 3px 1px rgba(0, 0, 0, 0.15);\n",
              "      filter: drop-shadow(0px 1px 2px rgba(0, 0, 0, 0.3));\n",
              "      fill: #FFFFFF;\n",
              "    }\n",
              "  </style>\n",
              "\n",
              "      <script>\n",
              "        const buttonEl =\n",
              "          document.querySelector('#df-af162f41-c290-48d0-85b4-e688742db9b8 button.colab-df-convert');\n",
              "        buttonEl.style.display =\n",
              "          google.colab.kernel.accessAllowed ? 'block' : 'none';\n",
              "\n",
              "        async function convertToInteractive(key) {\n",
              "          const element = document.querySelector('#df-af162f41-c290-48d0-85b4-e688742db9b8');\n",
              "          const dataTable =\n",
              "            await google.colab.kernel.invokeFunction('convertToInteractive',\n",
              "                                                     [key], {});\n",
              "          if (!dataTable) return;\n",
              "\n",
              "          const docLinkHtml = 'Like what you see? Visit the ' +\n",
              "            '<a target=\"_blank\" href=https://colab.research.google.com/notebooks/data_table.ipynb>data table notebook</a>'\n",
              "            + ' to learn more about interactive tables.';\n",
              "          element.innerHTML = '';\n",
              "          dataTable['output_type'] = 'display_data';\n",
              "          await google.colab.output.renderOutput(dataTable, element);\n",
              "          const docLink = document.createElement('div');\n",
              "          docLink.innerHTML = docLinkHtml;\n",
              "          element.appendChild(docLink);\n",
              "        }\n",
              "      </script>\n",
              "    </div>\n",
              "  </div>\n",
              "  "
            ]
          },
          "metadata": {},
          "execution_count": 31
        }
      ]
    },
    {
      "cell_type": "code",
      "source": [
        "train.drop(['Phone number'], axis=1, inplace=True)"
      ],
      "metadata": {
        "id": "zfy00PGX77ep"
      },
      "execution_count": null,
      "outputs": []
    },
    {
      "cell_type": "code",
      "source": [
        "train.drop(['ID'], axis=1, inplace=True)"
      ],
      "metadata": {
        "id": "TsGubAjgpo5E"
      },
      "execution_count": null,
      "outputs": []
    },
    {
      "cell_type": "markdown",
      "metadata": {
        "id": "RCfn1pSh2tIx"
      },
      "source": [
        "### Task 8\n",
        "\n",
        "Analyze correlations between features and with target variable `Churn`. Create heatmap, comment on that. Are there features that can be removed?"
      ]
    },
    {
      "cell_type": "code",
      "execution_count": null,
      "metadata": {
        "collapsed": true,
        "id": "C4vet-mo2tIx"
      },
      "outputs": [],
      "source": [
        "corr_matrix = train.corr()\n",
        "corr_churn = pd.DataFrame(corr_matrix)['Churn'].sort_values()"
      ]
    },
    {
      "cell_type": "code",
      "source": [
        "corr_churn.sort_values(ascending=True)[:10]"
      ],
      "metadata": {
        "colab": {
          "base_uri": "https://localhost:8080/"
        },
        "id": "w7d9XdcPubD1",
        "outputId": "2148b7c9-53e2-445d-e3d1-d7c57208063c"
      },
      "execution_count": null,
      "outputs": [
        {
          "output_type": "execute_result",
          "data": {
            "text/plain": [
              "Plans__Voice mail        -0.135774\n",
              "Number vmail messages    -0.070427\n",
              "cost of one minute day   -0.048628\n",
              "State__AK                -0.040217\n",
              "State__AZ                -0.036911\n",
              "State__HI                -0.031628\n",
              "State__VA                -0.030744\n",
              "State__AL                -0.029925\n",
              "State__LA                -0.028709\n",
              "State__IN                -0.026331\n",
              "Name: Churn, dtype: float64"
            ]
          },
          "metadata": {},
          "execution_count": 35
        }
      ]
    },
    {
      "cell_type": "code",
      "source": [
        "corr_churn.sort_values(ascending=False)[:10]"
      ],
      "metadata": {
        "colab": {
          "base_uri": "https://localhost:8080/"
        },
        "id": "0tQ4Hcy6uoe9",
        "outputId": "de47d9b1-908a-43cc-a778-27e4b5e9d04c"
      },
      "execution_count": null,
      "outputs": [
        {
          "output_type": "execute_result",
          "data": {
            "text/plain": [
              "Churn                               1.000000\n",
              "Total charge                        0.247171\n",
              "Total day minutes                   0.218323\n",
              "Total day charge                    0.218322\n",
              "Customer service calls              0.211119\n",
              "Plans__International                0.199456\n",
              "Plans__International, Voice mail    0.120850\n",
              "Total eve minutes                   0.116279\n",
              "Total eve charge                    0.116265\n",
              "Total intl charge                   0.079171\n",
              "Name: Churn, dtype: float64"
            ]
          },
          "metadata": {},
          "execution_count": 36
        }
      ]
    },
    {
      "cell_type": "code",
      "source": [
        "sns.heatmap(train.corr())"
      ],
      "metadata": {
        "colab": {
          "base_uri": "https://localhost:8080/",
          "height": 434
        },
        "id": "FlUzULXQ7mdA",
        "outputId": "d33e56cb-bfea-4bfe-88b4-f5903982346d"
      },
      "execution_count": null,
      "outputs": [
        {
          "output_type": "execute_result",
          "data": {
            "text/plain": [
              "<matplotlib.axes._subplots.AxesSubplot at 0x7f8c4eca82e0>"
            ]
          },
          "metadata": {},
          "execution_count": 37
        },
        {
          "output_type": "display_data",
          "data": {
            "text/plain": [
              "<Figure size 432x288 with 2 Axes>"
            ],
            "image/png": "[encoded data removed]"
          },
          "metadata": {
            "needs_background": "light"
          }
        }
      ]
    },
    {
      "cell_type": "markdown",
      "source": [
        "We can see relevant correlation (modul of correletation coeff > 0.1) between churn and features:\n",
        "*   Total charge                        0.247171\n",
        "*   Total day minutes                   0.218323\n",
        "*   Total day charge                    0.218322\n",
        "*   Customer service calls              0.211119\n",
        "*   Plans__International                0.199456\n",
        "*   Plans__International, Voice mail    0.120850\n",
        "*   Total eve minutes                   0.116279\n",
        "*   Total eve charge                    0.116265\n",
        "\n",
        "Correlation coefficient is positive, so its behaviour is the same.\n"
      ],
      "metadata": {
        "id": "CpAt-0Zwu0-s"
      }
    },
    {
      "cell_type": "markdown",
      "metadata": {
        "id": "9iyyfqP92tIx"
      },
      "source": [
        "# Task 9\n",
        "\n",
        "Consider rule-based model for churn prediction:\n",
        "* If a client is subscribed to the International plan & has > 3 customer service calls => client will leave (Churn = True)\n",
        "* Otherwise => client will stay (Churn = False)\n",
        "\n",
        "Evaluate quality of such model on the whole dataset. Compute appropriate classification metrics. Compare to a dummy model."
      ]
    },
    {
      "cell_type": "code",
      "execution_count": null,
      "metadata": {
        "collapsed": true,
        "id": "P4XphdME2tIx"
      },
      "outputs": [],
      "source": [
        "def rule_based(client):\n",
        "  if client['Plans__International'] == 1 and client['Customer service calls']>3:\n",
        "    churn = 1\n",
        "  else:\n",
        "    churn = 0\n",
        "  return churn"
      ]
    },
    {
      "cell_type": "code",
      "source": [
        "train['Churn_pred'] = 0\n",
        "for i in range(len(train)):\n",
        "  client = train.iloc[i]\n",
        "  train['Churn_pred'].iloc[i] = rule_based(client)"
      ],
      "metadata": {
        "colab": {
          "base_uri": "https://localhost:8080/"
        },
        "id": "SN0OUAOj8Axw",
        "outputId": "c2c53108-82c1-45f2-925c-949763370f2e"
      },
      "execution_count": null,
      "outputs": [
        {
          "output_type": "stream",
          "name": "stderr",
          "text": [
            "/usr/local/lib/python3.8/dist-packages/pandas/core/indexing.py:1732: SettingWithCopyWarning: \n",
            "A value is trying to be set on a copy of a slice from a DataFrame\n",
            "\n",
            "See the caveats in the documentation: https://pandas.pydata.org/pandas-docs/stable/user_guide/indexing.html#returning-a-view-versus-a-copy\n",
            "  self._setitem_single_block(indexer, value, name)\n"
          ]
        }
      ]
    },
    {
      "cell_type": "code",
      "source": [
        "print(\"F1:\", metrics.f1_score(train.Churn, train.Churn_pred))\n",
        "print(\"ROC_AUC_SCORE:\", metrics.roc_auc_score(train.Churn, train.Churn_pred))"
      ],
      "metadata": {
        "colab": {
          "base_uri": "https://localhost:8080/"
        },
        "id": "Te6G_bp4-GK7",
        "outputId": "9ae409ff-eddf-4b78-ac93-91597b5ce6f3"
      },
      "execution_count": null,
      "outputs": [
        {
          "output_type": "stream",
          "name": "stdout",
          "text": [
            "F1: 0.0374331550802139\n",
            "ROC_AUC_SCORE: 0.5084986439915512\n"
          ]
        }
      ]
    },
    {
      "cell_type": "code",
      "source": [
        "y = train['Churn']\n",
        "train.drop(['Churn'], axis=1, inplace=True)"
      ],
      "metadata": {
        "id": "Fv_r3Vq0_3XX"
      },
      "execution_count": null,
      "outputs": []
    },
    {
      "cell_type": "code",
      "source": [
        "estimator = DummyClassifier()\n",
        "estimator.fit(train, y)"
      ],
      "metadata": {
        "colab": {
          "base_uri": "https://localhost:8080/"
        },
        "id": "pNhRQYxu-yCK",
        "outputId": "754bb61c-2f32-4403-dd9c-e2f6f4e235fe"
      },
      "execution_count": null,
      "outputs": [
        {
          "output_type": "execute_result",
          "data": {
            "text/plain": [
              "DummyClassifier()"
            ]
          },
          "metadata": {},
          "execution_count": 42
        }
      ]
    },
    {
      "cell_type": "code",
      "source": [
        "preds = estimator.predict(train)"
      ],
      "metadata": {
        "id": "srhpnQzU-yJi"
      },
      "execution_count": null,
      "outputs": []
    },
    {
      "cell_type": "code",
      "source": [
        "print(\"F1:\", metrics.f1_score(y, preds))\n",
        "print(\"ROC_AUC_SCORE:\", metrics.roc_auc_score(y, preds))"
      ],
      "metadata": {
        "colab": {
          "base_uri": "https://localhost:8080/"
        },
        "id": "yVbWxpTiAOeS",
        "outputId": "62d2b19d-45b2-478a-a723-a0fb485f7ded"
      },
      "execution_count": null,
      "outputs": [
        {
          "output_type": "stream",
          "name": "stdout",
          "text": [
            "F1: 0.0\n",
            "ROC_AUC_SCORE: 0.5\n"
          ]
        }
      ]
    },
    {
      "cell_type": "markdown",
      "source": [
        "So, rule-based model works with the same quality as dummy model."
      ],
      "metadata": {
        "id": "1IZuEp3qA3oS"
      }
    },
    {
      "cell_type": "markdown",
      "metadata": {
        "id": "KfH-1HDX2tIx"
      },
      "source": [
        "## Task 2. Machine Learning <a id=\"part2\"></a>"
      ]
    },
    {
      "cell_type": "markdown",
      "metadata": {
        "id": "kPrqRvbw2tIx"
      },
      "source": [
        "In this part you will be working with the data you prepared in the Part 1.\n",
        "Target variable - `Churn prediction`.\n",
        "\n",
        "**NB:** Use the same `random_state` in KFold validation for every task. Also it is preferable to use StratifiedKFold."
      ]
    },
    {
      "cell_type": "markdown",
      "metadata": {
        "id": "0vUgBRLW2tIy"
      },
      "source": [
        "### Task 1\n",
        "\n",
        "* Train KNN with the default values of hyperparameters and compute F1-score on 5-fold validation.\n",
        "* Finetune KNN hyperparameters on 5-fold validation. What are the best values? What's the value of F1-score. By how much the best values outperform second best set of values?"
      ]
    },
    {
      "cell_type": "code",
      "source": [
        "from sklearn.neighbors import KNeighborsClassifier\n",
        "from sklearn.model_selection import cross_val_score\n",
        "from sklearn.model_selection import StratifiedKFold\n",
        "from sklearn.model_selection import KFold"
      ],
      "metadata": {
        "id": "3weWYBpADagw"
      },
      "execution_count": null,
      "outputs": []
    },
    {
      "cell_type": "code",
      "source": [
        "train.head()"
      ],
      "metadata": {
        "colab": {
          "base_uri": "https://localhost:8080/",
          "height": 334
        },
        "id": "pn2j4g-J_5a5",
        "outputId": "4d8125ff-6835-482f-b6b0-c42eb20aafff"
      },
      "execution_count": null,
      "outputs": [
        {
          "output_type": "execute_result",
          "data": {
            "text/plain": [
              "    Age  Account length  Number vmail messages  Total day minutes  \\\n",
              "0  35.0             150                     28              174.4   \n",
              "1  43.0              87                      0              185.8   \n",
              "2  39.0             180                      0              224.9   \n",
              "3  36.0             200                      0              128.2   \n",
              "4  37.0             122                      0              157.1   \n",
              "\n",
              "   Total day calls  Total day charge  Total eve minutes  Total eve calls  \\\n",
              "0             75.0             29.65              169.9             80.0   \n",
              "1            119.0             31.59              192.3             83.0   \n",
              "2            105.0             38.23              250.0            101.0   \n",
              "3             87.0             21.79              133.2            105.0   \n",
              "4            134.0             26.71              184.9            122.0   \n",
              "\n",
              "   Total eve charge  Total night minutes  Total night calls  \\\n",
              "0             14.44                201.6              130.0   \n",
              "1             16.35                200.0               96.0   \n",
              "2             21.25                216.1               73.0   \n",
              "3             11.32                177.6              123.0   \n",
              "4             15.72                197.2               59.0   \n",
              "\n",
              "   Total night charge  ...  State__WA  State__WI  State__WV  State__WY  \\\n",
              "0                9.07  ...        0.0        0.0        0.0        0.0   \n",
              "1                9.00  ...        0.0        0.0        0.0        0.0   \n",
              "2                9.72  ...        0.0        0.0        0.0        0.0   \n",
              "3                7.99  ...        0.0        0.0        0.0        0.0   \n",
              "4                8.87  ...        0.0        0.0        0.0        0.0   \n",
              "\n",
              "   Plans__International  Plans__International, Voice mail  Plans__None  \\\n",
              "0                   0.0                               0.0          0.0   \n",
              "1                   0.0                               0.0          1.0   \n",
              "2                   0.0                               0.0          1.0   \n",
              "3                   0.0                               0.0          1.0   \n",
              "4                   0.0                               0.0          1.0   \n",
              "\n",
              "   Plans__Voice mail  Area code__408  Area code__415  Area code__510  \\\n",
              "0                1.0             0.0             1.0             0.0   \n",
              "1                0.0             1.0             0.0             0.0   \n",
              "2                0.0             0.0             1.0             0.0   \n",
              "3                0.0             1.0             0.0             0.0   \n",
              "4                0.0             0.0             0.0             1.0   \n",
              "\n",
              "   Churn_pred  \n",
              "0           0  \n",
              "1           0  \n",
              "2           0  \n",
              "3           0  \n",
              "4           0  \n",
              "\n",
              "[5 rows x 82 columns]"
            ],
            "text/html": [
              "\n",
              "  <div id=\"df-f0aff999-2912-4644-9f7f-0fcb13b82915\">\n",
              "    <div class=\"colab-df-container\">\n",
              "      <div>\n",
              "<style scoped>\n",
              "    .dataframe tbody tr th:only-of-type {\n",
              "        vertical-align: middle;\n",
              "    }\n",
              "\n",
              "    .dataframe tbody tr th {\n",
              "        vertical-align: top;\n",
              "    }\n",
              "\n",
              "    .dataframe thead th {\n",
              "        text-align: right;\n",
              "    }\n",
              "</style>\n",
              "<table border=\"1\" class=\"dataframe\">\n",
              "  <thead>\n",
              "    <tr style=\"text-align: right;\">\n",
              "      <th></th>\n",
              "      <th>Age</th>\n",
              "      <th>Account length</th>\n",
              "      <th>Number vmail messages</th>\n",
              "      <th>Total day minutes</th>\n",
              "      <th>Total day calls</th>\n",
              "      <th>Total day charge</th>\n",
              "      <th>Total eve minutes</th>\n",
              "      <th>Total eve calls</th>\n",
              "      <th>Total eve charge</th>\n",
              "      <th>Total night minutes</th>\n",
              "      <th>Total night calls</th>\n",
              "      <th>Total night charge</th>\n",
              "      <th>...</th>\n",
              "      <th>State__WA</th>\n",
              "      <th>State__WI</th>\n",
              "      <th>State__WV</th>\n",
              "      <th>State__WY</th>\n",
              "      <th>Plans__International</th>\n",
              "      <th>Plans__International, Voice mail</th>\n",
              "      <th>Plans__None</th>\n",
              "      <th>Plans__Voice mail</th>\n",
              "      <th>Area code__408</th>\n",
              "      <th>Area code__415</th>\n",
              "      <th>Area code__510</th>\n",
              "      <th>Churn_pred</th>\n",
              "    </tr>\n",
              "  </thead>\n",
              "  <tbody>\n",
              "    <tr>\n",
              "      <th>0</th>\n",
              "      <td>35.0</td>\n",
              "      <td>150</td>\n",
              "      <td>28</td>\n",
              "      <td>174.4</td>\n",
              "      <td>75.0</td>\n",
              "      <td>29.65</td>\n",
              "      <td>169.9</td>\n",
              "      <td>80.0</td>\n",
              "      <td>14.44</td>\n",
              "      <td>201.6</td>\n",
              "      <td>130.0</td>\n",
              "      <td>9.07</td>\n",
              "      <td>...</td>\n",
              "      <td>0.0</td>\n",
              "      <td>0.0</td>\n",
              "      <td>0.0</td>\n",
              "      <td>0.0</td>\n",
              "      <td>0.0</td>\n",
              "      <td>0.0</td>\n",
              "      <td>0.0</td>\n",
              "      <td>1.0</td>\n",
              "      <td>0.0</td>\n",
              "      <td>1.0</td>\n",
              "      <td>0.0</td>\n",
              "      <td>0</td>\n",
              "    </tr>\n",
              "    <tr>\n",
              "      <th>1</th>\n",
              "      <td>43.0</td>\n",
              "      <td>87</td>\n",
              "      <td>0</td>\n",
              "      <td>185.8</td>\n",
              "      <td>119.0</td>\n",
              "      <td>31.59</td>\n",
              "      <td>192.3</td>\n",
              "      <td>83.0</td>\n",
              "      <td>16.35</td>\n",
              "      <td>200.0</td>\n",
              "      <td>96.0</td>\n",
              "      <td>9.00</td>\n",
              "      <td>...</td>\n",
              "      <td>0.0</td>\n",
              "      <td>0.0</td>\n",
              "      <td>0.0</td>\n",
              "      <td>0.0</td>\n",
              "      <td>0.0</td>\n",
              "      <td>0.0</td>\n",
              "      <td>1.0</td>\n",
              "      <td>0.0</td>\n",
              "      <td>1.0</td>\n",
              "      <td>0.0</td>\n",
              "      <td>0.0</td>\n",
              "      <td>0</td>\n",
              "    </tr>\n",
              "    <tr>\n",
              "      <th>2</th>\n",
              "      <td>39.0</td>\n",
              "      <td>180</td>\n",
              "      <td>0</td>\n",
              "      <td>224.9</td>\n",
              "      <td>105.0</td>\n",
              "      <td>38.23</td>\n",
              "      <td>250.0</td>\n",
              "      <td>101.0</td>\n",
              "      <td>21.25</td>\n",
              "      <td>216.1</td>\n",
              "      <td>73.0</td>\n",
              "      <td>9.72</td>\n",
              "      <td>...</td>\n",
              "      <td>0.0</td>\n",
              "      <td>0.0</td>\n",
              "      <td>0.0</td>\n",
              "      <td>0.0</td>\n",
              "      <td>0.0</td>\n",
              "      <td>0.0</td>\n",
              "      <td>1.0</td>\n",
              "      <td>0.0</td>\n",
              "      <td>0.0</td>\n",
              "      <td>1.0</td>\n",
              "      <td>0.0</td>\n",
              "      <td>0</td>\n",
              "    </tr>\n",
              "    <tr>\n",
              "      <th>3</th>\n",
              "      <td>36.0</td>\n",
              "      <td>200</td>\n",
              "      <td>0</td>\n",
              "      <td>128.2</td>\n",
              "      <td>87.0</td>\n",
              "      <td>21.79</td>\n",
              "      <td>133.2</td>\n",
              "      <td>105.0</td>\n",
              "      <td>11.32</td>\n",
              "      <td>177.6</td>\n",
              "      <td>123.0</td>\n",
              "      <td>7.99</td>\n",
              "      <td>...</td>\n",
              "      <td>0.0</td>\n",
              "      <td>0.0</td>\n",
              "      <td>0.0</td>\n",
              "      <td>0.0</td>\n",
              "      <td>0.0</td>\n",
              "      <td>0.0</td>\n",
              "      <td>1.0</td>\n",
              "      <td>0.0</td>\n",
              "      <td>1.0</td>\n",
              "      <td>0.0</td>\n",
              "      <td>0.0</td>\n",
              "      <td>0</td>\n",
              "    </tr>\n",
              "    <tr>\n",
              "      <th>4</th>\n",
              "      <td>37.0</td>\n",
              "      <td>122</td>\n",
              "      <td>0</td>\n",
              "      <td>157.1</td>\n",
              "      <td>134.0</td>\n",
              "      <td>26.71</td>\n",
              "      <td>184.9</td>\n",
              "      <td>122.0</td>\n",
              "      <td>15.72</td>\n",
              "      <td>197.2</td>\n",
              "      <td>59.0</td>\n",
              "      <td>8.87</td>\n",
              "      <td>...</td>\n",
              "      <td>0.0</td>\n",
              "      <td>0.0</td>\n",
              "      <td>0.0</td>\n",
              "      <td>0.0</td>\n",
              "      <td>0.0</td>\n",
              "      <td>0.0</td>\n",
              "      <td>1.0</td>\n",
              "      <td>0.0</td>\n",
              "      <td>0.0</td>\n",
              "      <td>0.0</td>\n",
              "      <td>1.0</td>\n",
              "      <td>0</td>\n",
              "    </tr>\n",
              "  </tbody>\n",
              "</table>\n",
              "<p>5 rows × 82 columns</p>\n",
              "</div>\n",
              "      <button class=\"colab-df-convert\" onclick=\"convertToInteractive('df-f0aff999-2912-4644-9f7f-0fcb13b82915')\"\n",
              "              title=\"Convert this dataframe to an interactive table.\"\n",
              "              style=\"display:none;\">\n",
              "        \n",
              "  <svg xmlns=\"http://www.w3.org/2000/svg\" height=\"24px\"viewBox=\"0 0 24 24\"\n",
              "       width=\"24px\">\n",
              "    <path d=\"M0 0h24v24H0V0z\" fill=\"none\"/>\n",
              "    <path d=\"M18.56 5.44l.94 2.06.94-2.06 2.06-.94-2.06-.94-.94-2.06-.94 2.06-2.06.94zm-11 1L8.5 8.5l.94-2.06 2.06-.94-2.06-.94L8.5 2.5l-.94 2.06-2.06.94zm10 10l.94 2.06.94-2.06 2.06-.94-2.06-.94-.94-2.06-.94 2.06-2.06.94z\"/><path d=\"M17.41 7.96l-1.37-1.37c-.4-.4-.92-.59-1.43-.59-.52 0-1.04.2-1.43.59L10.3 9.45l-7.72 7.72c-.78.78-.78 2.05 0 2.83L4 21.41c.39.39.9.59 1.41.59.51 0 1.02-.2 1.41-.59l7.78-7.78 2.81-2.81c.8-.78.8-2.07 0-2.86zM5.41 20L4 18.59l7.72-7.72 1.47 1.35L5.41 20z\"/>\n",
              "  </svg>\n",
              "      </button>\n",
              "      \n",
              "  <style>\n",
              "    .colab-df-container {\n",
              "      display:flex;\n",
              "      flex-wrap:wrap;\n",
              "      gap: 12px;\n",
              "    }\n",
              "\n",
              "    .colab-df-convert {\n",
              "      background-color: #E8F0FE;\n",
              "      border: none;\n",
              "      border-radius: 50%;\n",
              "      cursor: pointer;\n",
              "      display: none;\n",
              "      fill: #1967D2;\n",
              "      height: 32px;\n",
              "      padding: 0 0 0 0;\n",
              "      width: 32px;\n",
              "    }\n",
              "\n",
              "    .colab-df-convert:hover {\n",
              "      background-color: #E2EBFA;\n",
              "      box-shadow: 0px 1px 2px rgba(60, 64, 67, 0.3), 0px 1px 3px 1px rgba(60, 64, 67, 0.15);\n",
              "      fill: #174EA6;\n",
              "    }\n",
              "\n",
              "    [theme=dark] .colab-df-convert {\n",
              "      background-color: #3B4455;\n",
              "      fill: #D2E3FC;\n",
              "    }\n",
              "\n",
              "    [theme=dark] .colab-df-convert:hover {\n",
              "      background-color: #434B5C;\n",
              "      box-shadow: 0px 1px 3px 1px rgba(0, 0, 0, 0.15);\n",
              "      filter: drop-shadow(0px 1px 2px rgba(0, 0, 0, 0.3));\n",
              "      fill: #FFFFFF;\n",
              "    }\n",
              "  </style>\n",
              "\n",
              "      <script>\n",
              "        const buttonEl =\n",
              "          document.querySelector('#df-f0aff999-2912-4644-9f7f-0fcb13b82915 button.colab-df-convert');\n",
              "        buttonEl.style.display =\n",
              "          google.colab.kernel.accessAllowed ? 'block' : 'none';\n",
              "\n",
              "        async function convertToInteractive(key) {\n",
              "          const element = document.querySelector('#df-f0aff999-2912-4644-9f7f-0fcb13b82915');\n",
              "          const dataTable =\n",
              "            await google.colab.kernel.invokeFunction('convertToInteractive',\n",
              "                                                     [key], {});\n",
              "          if (!dataTable) return;\n",
              "\n",
              "          const docLinkHtml = 'Like what you see? Visit the ' +\n",
              "            '<a target=\"_blank\" href=https://colab.research.google.com/notebooks/data_table.ipynb>data table notebook</a>'\n",
              "            + ' to learn more about interactive tables.';\n",
              "          element.innerHTML = '';\n",
              "          dataTable['output_type'] = 'display_data';\n",
              "          await google.colab.output.renderOutput(dataTable, element);\n",
              "          const docLink = document.createElement('div');\n",
              "          docLink.innerHTML = docLinkHtml;\n",
              "          element.appendChild(docLink);\n",
              "        }\n",
              "      </script>\n",
              "    </div>\n",
              "  </div>\n",
              "  "
            ]
          },
          "metadata": {},
          "execution_count": 46
        }
      ]
    },
    {
      "cell_type": "code",
      "source": [
        "kf = StratifiedKFold(n_splits=5, random_state=12345, shuffle=True)\n",
        "neigh = KNeighborsClassifier()\n",
        "test_err = cross_val_score(neigh, train, y,\n",
        "                           cv=kf, scoring='f1', n_jobs=-1)\n",
        "print(\"F1:\", test_err.mean())"
      ],
      "metadata": {
        "colab": {
          "base_uri": "https://localhost:8080/"
        },
        "id": "XvH2DUbnDHcH",
        "outputId": "d67e6aac-0795-466b-89c7-523d1152664e"
      },
      "execution_count": null,
      "outputs": [
        {
          "output_type": "stream",
          "name": "stdout",
          "text": [
            "F1: 0.3458199852839028\n"
          ]
        }
      ]
    },
    {
      "cell_type": "code",
      "source": [
        "from sklearn.pipeline import make_pipeline\n",
        "from sklearn.model_selection import GridSearchCV"
      ],
      "metadata": {
        "id": "F-tG7N2yIMVJ"
      },
      "execution_count": null,
      "outputs": []
    },
    {
      "cell_type": "code",
      "source": [
        "params = {\n",
        "    'n_neighbors':range(2, 21, 1),\n",
        "    'weights': ['uniform', 'distance'],\n",
        "    'algorithm': ['auto', 'ball_tree', 'kd_tree', 'brute'],\n",
        "    'p': [1,2]\n",
        "    }\n",
        "\n",
        "gd = GridSearchCV(neigh, params, cv=kf, scoring='f1', n_jobs=-1)\n",
        "\n",
        "gd.fit(train, y)\n",
        "\n",
        "print(gd.best_params_)\n"
      ],
      "metadata": {
        "colab": {
          "base_uri": "https://localhost:8080/"
        },
        "id": "1Jj0q38jIWo7",
        "outputId": "8fe53f39-2c68-46f0-ec3b-919ef1ff06cf"
      },
      "execution_count": null,
      "outputs": [
        {
          "output_type": "stream",
          "name": "stdout",
          "text": [
            "{'algorithm': 'auto', 'n_neighbors': 6, 'p': 1, 'weights': 'distance'}\n"
          ]
        }
      ]
    },
    {
      "cell_type": "code",
      "source": [
        "kf = StratifiedKFold(n_splits=5, random_state=12345, shuffle=True)\n",
        "neigh = KNeighborsClassifier(algorithm='auto', n_neighbors=7, p=1, weights='uniform')\n",
        "test_err = cross_val_score(neigh, train, y,\n",
        "                           cv=kf, scoring='f1', n_jobs=-1)\n",
        "print(\"F1:\", test_err.mean())"
      ],
      "metadata": {
        "colab": {
          "base_uri": "https://localhost:8080/"
        },
        "id": "1S_mMc0pKxqk",
        "outputId": "a8a7f2a4-5e3c-421e-b856-3620987d81ff"
      },
      "execution_count": null,
      "outputs": [
        {
          "output_type": "stream",
          "name": "stdout",
          "text": [
            "F1: 0.4326456816045402\n"
          ]
        }
      ]
    },
    {
      "cell_type": "code",
      "source": [
        "pd.DataFrame(gd.cv_results_['mean_test_score']).sort_values(by=0, ascending=False).head(10)"
      ],
      "metadata": {
        "colab": {
          "base_uri": "https://localhost:8080/",
          "height": 363
        },
        "id": "jsxXvJDkPyjm",
        "outputId": "a756b5bf-997b-491a-c2d3-2ee6d71678da"
      },
      "execution_count": null,
      "outputs": [
        {
          "output_type": "execute_result",
          "data": {
            "text/plain": [
              "            0\n",
              "169  0.433102\n",
              "17   0.433102\n",
              "93   0.433102\n",
              "245  0.433102\n",
              "172  0.432646\n",
              "96   0.432646\n",
              "248  0.432646\n",
              "20   0.432646\n",
              "173  0.431739\n",
              "97   0.431739"
            ],
            "text/html": [
              "\n",
              "  <div id=\"df-513891f9-724e-4ea2-8bbc-3c4cb35a91e9\">\n",
              "    <div class=\"colab-df-container\">\n",
              "      <div>\n",
              "<style scoped>\n",
              "    .dataframe tbody tr th:only-of-type {\n",
              "        vertical-align: middle;\n",
              "    }\n",
              "\n",
              "    .dataframe tbody tr th {\n",
              "        vertical-align: top;\n",
              "    }\n",
              "\n",
              "    .dataframe thead th {\n",
              "        text-align: right;\n",
              "    }\n",
              "</style>\n",
              "<table border=\"1\" class=\"dataframe\">\n",
              "  <thead>\n",
              "    <tr style=\"text-align: right;\">\n",
              "      <th></th>\n",
              "      <th>0</th>\n",
              "    </tr>\n",
              "  </thead>\n",
              "  <tbody>\n",
              "    <tr>\n",
              "      <th>169</th>\n",
              "      <td>0.433102</td>\n",
              "    </tr>\n",
              "    <tr>\n",
              "      <th>17</th>\n",
              "      <td>0.433102</td>\n",
              "    </tr>\n",
              "    <tr>\n",
              "      <th>93</th>\n",
              "      <td>0.433102</td>\n",
              "    </tr>\n",
              "    <tr>\n",
              "      <th>245</th>\n",
              "      <td>0.433102</td>\n",
              "    </tr>\n",
              "    <tr>\n",
              "      <th>172</th>\n",
              "      <td>0.432646</td>\n",
              "    </tr>\n",
              "    <tr>\n",
              "      <th>96</th>\n",
              "      <td>0.432646</td>\n",
              "    </tr>\n",
              "    <tr>\n",
              "      <th>248</th>\n",
              "      <td>0.432646</td>\n",
              "    </tr>\n",
              "    <tr>\n",
              "      <th>20</th>\n",
              "      <td>0.432646</td>\n",
              "    </tr>\n",
              "    <tr>\n",
              "      <th>173</th>\n",
              "      <td>0.431739</td>\n",
              "    </tr>\n",
              "    <tr>\n",
              "      <th>97</th>\n",
              "      <td>0.431739</td>\n",
              "    </tr>\n",
              "  </tbody>\n",
              "</table>\n",
              "</div>\n",
              "      <button class=\"colab-df-convert\" onclick=\"convertToInteractive('df-513891f9-724e-4ea2-8bbc-3c4cb35a91e9')\"\n",
              "              title=\"Convert this dataframe to an interactive table.\"\n",
              "              style=\"display:none;\">\n",
              "        \n",
              "  <svg xmlns=\"http://www.w3.org/2000/svg\" height=\"24px\"viewBox=\"0 0 24 24\"\n",
              "       width=\"24px\">\n",
              "    <path d=\"M0 0h24v24H0V0z\" fill=\"none\"/>\n",
              "    <path d=\"M18.56 5.44l.94 2.06.94-2.06 2.06-.94-2.06-.94-.94-2.06-.94 2.06-2.06.94zm-11 1L8.5 8.5l.94-2.06 2.06-.94-2.06-.94L8.5 2.5l-.94 2.06-2.06.94zm10 10l.94 2.06.94-2.06 2.06-.94-2.06-.94-.94-2.06-.94 2.06-2.06.94z\"/><path d=\"M17.41 7.96l-1.37-1.37c-.4-.4-.92-.59-1.43-.59-.52 0-1.04.2-1.43.59L10.3 9.45l-7.72 7.72c-.78.78-.78 2.05 0 2.83L4 21.41c.39.39.9.59 1.41.59.51 0 1.02-.2 1.41-.59l7.78-7.78 2.81-2.81c.8-.78.8-2.07 0-2.86zM5.41 20L4 18.59l7.72-7.72 1.47 1.35L5.41 20z\"/>\n",
              "  </svg>\n",
              "      </button>\n",
              "      \n",
              "  <style>\n",
              "    .colab-df-container {\n",
              "      display:flex;\n",
              "      flex-wrap:wrap;\n",
              "      gap: 12px;\n",
              "    }\n",
              "\n",
              "    .colab-df-convert {\n",
              "      background-color: #E8F0FE;\n",
              "      border: none;\n",
              "      border-radius: 50%;\n",
              "      cursor: pointer;\n",
              "      display: none;\n",
              "      fill: #1967D2;\n",
              "      height: 32px;\n",
              "      padding: 0 0 0 0;\n",
              "      width: 32px;\n",
              "    }\n",
              "\n",
              "    .colab-df-convert:hover {\n",
              "      background-color: #E2EBFA;\n",
              "      box-shadow: 0px 1px 2px rgba(60, 64, 67, 0.3), 0px 1px 3px 1px rgba(60, 64, 67, 0.15);\n",
              "      fill: #174EA6;\n",
              "    }\n",
              "\n",
              "    [theme=dark] .colab-df-convert {\n",
              "      background-color: #3B4455;\n",
              "      fill: #D2E3FC;\n",
              "    }\n",
              "\n",
              "    [theme=dark] .colab-df-convert:hover {\n",
              "      background-color: #434B5C;\n",
              "      box-shadow: 0px 1px 3px 1px rgba(0, 0, 0, 0.15);\n",
              "      filter: drop-shadow(0px 1px 2px rgba(0, 0, 0, 0.3));\n",
              "      fill: #FFFFFF;\n",
              "    }\n",
              "  </style>\n",
              "\n",
              "      <script>\n",
              "        const buttonEl =\n",
              "          document.querySelector('#df-513891f9-724e-4ea2-8bbc-3c4cb35a91e9 button.colab-df-convert');\n",
              "        buttonEl.style.display =\n",
              "          google.colab.kernel.accessAllowed ? 'block' : 'none';\n",
              "\n",
              "        async function convertToInteractive(key) {\n",
              "          const element = document.querySelector('#df-513891f9-724e-4ea2-8bbc-3c4cb35a91e9');\n",
              "          const dataTable =\n",
              "            await google.colab.kernel.invokeFunction('convertToInteractive',\n",
              "                                                     [key], {});\n",
              "          if (!dataTable) return;\n",
              "\n",
              "          const docLinkHtml = 'Like what you see? Visit the ' +\n",
              "            '<a target=\"_blank\" href=https://colab.research.google.com/notebooks/data_table.ipynb>data table notebook</a>'\n",
              "            + ' to learn more about interactive tables.';\n",
              "          element.innerHTML = '';\n",
              "          dataTable['output_type'] = 'display_data';\n",
              "          await google.colab.output.renderOutput(dataTable, element);\n",
              "          const docLink = document.createElement('div');\n",
              "          docLink.innerHTML = docLinkHtml;\n",
              "          element.appendChild(docLink);\n",
              "        }\n",
              "      </script>\n",
              "    </div>\n",
              "  </div>\n",
              "  "
            ]
          },
          "metadata": {},
          "execution_count": 55
        }
      ]
    },
    {
      "cell_type": "markdown",
      "source": [
        "The second best f1 score is 0.440636, it is less then best value by 0.003"
      ],
      "metadata": {
        "id": "cgCfCZitQPEh"
      }
    },
    {
      "cell_type": "markdown",
      "metadata": {
        "id": "6rd3LPz-2tIy"
      },
      "source": [
        "### Task 2\n",
        "\n",
        "* Use logistic regression for the problem, tune hyperparameters of logreg. Follow the quality of the model using ROC AUC, 5-fold cross-validation.\n",
        "* Use SVM algorithm for the problem with linear kernel, tune hyperparameters (use LinearSVC or values of C less than 100 000). Follow the quality of the model using ROC AUC, 5-fold cross-validation.\n",
        "* Use SVM algorithm for the problem with _rbf_ kernel, tune hyperparameter C (use values of C less than 1 000 000). Follow the quality of the model using ROC AUC, 5-fold cross-validation.\n",
        "* Compare three algorithms using ROC curve. Choose the best one based on the curve shape and ROC AUC score."
      ]
    },
    {
      "cell_type": "code",
      "source": [
        "from sklearn.linear_model import LogisticRegression\n",
        "from sklearn.preprocessing import StandardScaler"
      ],
      "metadata": {
        "id": "OhkNSIf0V2zO"
      },
      "execution_count": null,
      "outputs": []
    },
    {
      "cell_type": "code",
      "source": [
        "from sklearn.svm import SVC"
      ],
      "metadata": {
        "id": "aLmO9VslIfx3"
      },
      "execution_count": null,
      "outputs": []
    },
    {
      "cell_type": "code",
      "source": [
        "from sklearn.metrics import roc_curve\n",
        "from sklearn.metrics import RocCurveDisplay"
      ],
      "metadata": {
        "id": "8c8joEvSTM_7"
      },
      "execution_count": null,
      "outputs": []
    },
    {
      "cell_type": "code",
      "source": [
        "from sklearn.svm import LinearSVC"
      ],
      "metadata": {
        "id": "waTpb3P8Z1G2"
      },
      "execution_count": null,
      "outputs": []
    },
    {
      "cell_type": "code",
      "execution_count": null,
      "metadata": {
        "id": "NEmdfERu2tIy",
        "colab": {
          "base_uri": "https://localhost:8080/"
        },
        "outputId": "83ca4e3b-cb5f-41e0-adc0-89f0d8a3ddaf"
      },
      "outputs": [
        {
          "output_type": "stream",
          "name": "stdout",
          "text": [
            "Tuned hpyerparameters :(best parameters)  {'logisticregression__C': 0.01, 'logisticregression__penalty': 'l2'}\n",
            "ROC_AUC : 0.7929758112829066\n"
          ]
        },
        {
          "output_type": "stream",
          "name": "stderr",
          "text": [
            "/usr/local/lib/python3.8/dist-packages/sklearn/model_selection/_validation.py:372: FitFailedWarning: \n",
            "70 fits failed out of a total of 140.\n",
            "The score on these train-test partitions for these parameters will be set to nan.\n",
            "If these failures are not expected, you can try to debug them by setting error_score='raise'.\n",
            "\n",
            "Below are more details about the failures:\n",
            "--------------------------------------------------------------------------------\n",
            "35 fits failed with the following error:\n",
            "Traceback (most recent call last):\n",
            "  File \"/usr/local/lib/python3.8/dist-packages/sklearn/model_selection/_validation.py\", line 680, in _fit_and_score\n",
            "    estimator.fit(X_train, y_train, **fit_params)\n",
            "  File \"/usr/local/lib/python3.8/dist-packages/sklearn/pipeline.py\", line 394, in fit\n",
            "    self._final_estimator.fit(Xt, y, **fit_params_last_step)\n",
            "  File \"/usr/local/lib/python3.8/dist-packages/sklearn/linear_model/_logistic.py\", line 1461, in fit\n",
            "    solver = _check_solver(self.solver, self.penalty, self.dual)\n",
            "  File \"/usr/local/lib/python3.8/dist-packages/sklearn/linear_model/_logistic.py\", line 447, in _check_solver\n",
            "    raise ValueError(\n",
            "ValueError: Solver lbfgs supports only 'l2' or 'none' penalties, got l1 penalty.\n",
            "\n",
            "--------------------------------------------------------------------------------\n",
            "35 fits failed with the following error:\n",
            "Traceback (most recent call last):\n",
            "  File \"/usr/local/lib/python3.8/dist-packages/sklearn/model_selection/_validation.py\", line 680, in _fit_and_score\n",
            "    estimator.fit(X_train, y_train, **fit_params)\n",
            "  File \"/usr/local/lib/python3.8/dist-packages/sklearn/pipeline.py\", line 394, in fit\n",
            "    self._final_estimator.fit(Xt, y, **fit_params_last_step)\n",
            "  File \"/usr/local/lib/python3.8/dist-packages/sklearn/linear_model/_logistic.py\", line 1461, in fit\n",
            "    solver = _check_solver(self.solver, self.penalty, self.dual)\n",
            "  File \"/usr/local/lib/python3.8/dist-packages/sklearn/linear_model/_logistic.py\", line 447, in _check_solver\n",
            "    raise ValueError(\n",
            "ValueError: Solver lbfgs supports only 'l2' or 'none' penalties, got elasticnet penalty.\n",
            "\n",
            "  warnings.warn(some_fits_failed_message, FitFailedWarning)\n",
            "/usr/local/lib/python3.8/dist-packages/sklearn/model_selection/_search.py:969: UserWarning: One or more of the test scores are non-finite: [       nan 0.77394843        nan 0.78454384        nan 0.79297581\n",
            "        nan 0.78454384        nan 0.79006689        nan 0.78454384\n",
            "        nan 0.78676631        nan 0.78454384        nan 0.78594864\n",
            "        nan 0.78454384        nan 0.78555153        nan 0.78454384\n",
            "        nan 0.78489275        nan 0.78454384]\n",
            "  warnings.warn(\n"
          ]
        }
      ],
      "source": [
        "scaler = StandardScaler()\n",
        "lr = LogisticRegression()\n",
        "\n",
        "params = {\n",
        "    'logisticregression__penalty': ['l1', 'l2', 'elasticnet', 'none'],\n",
        "    'logisticregression__C': np.logspace(-3,3,7)\n",
        "    }\n",
        "\n",
        "model = make_pipeline(\n",
        "    scaler,\n",
        "    lr\n",
        ")\n",
        "\n",
        "gd_lr = GridSearchCV(model, params, cv=kf, scoring='roc_auc', n_jobs=-1)\n",
        "\n",
        "gd_lr.fit(train, y)\n",
        "\n",
        "print(\"Tuned hpyerparameters :(best parameters) \",gd_lr.best_params_)\n",
        "print(\"ROC_AUC :\",gd_lr.best_score_)"
      ]
    },
    {
      "cell_type": "code",
      "source": [
        "best_gd_lr = gd_lr.best_estimator_\n",
        "\n",
        "y_score = best_gd_lr.predict_proba(train)\n",
        "\n",
        "fpr, tpr, _ = roc_curve(np.array(y), y_score.T[1])\n",
        "roc_display = RocCurveDisplay(fpr=fpr, tpr=tpr).plot()"
      ],
      "metadata": {
        "colab": {
          "base_uri": "https://localhost:8080/",
          "height": 279
        },
        "id": "JOU-GcfoZfZD",
        "outputId": "b2417e4f-b5be-449a-c969-b9901bef4c68"
      },
      "execution_count": null,
      "outputs": [
        {
          "output_type": "display_data",
          "data": {
            "text/plain": [
              "<Figure size 432x288 with 1 Axes>"
            ],
            "image/png": "[encoded data removed]"
          },
          "metadata": {
            "needs_background": "light"
          }
        }
      ]
    },
    {
      "cell_type": "code",
      "source": [
        "scaler = StandardScaler()\n",
        "lsvc = SVC(kernel='linear',probability=True)\n",
        "\n",
        "params = {\n",
        "    'svc__C': range(1, 10, 1)\n",
        "    }\n",
        "\n",
        "model = make_pipeline(\n",
        "    scaler,\n",
        "    lsvc\n",
        ")\n",
        "\n",
        "gd_lsvc = GridSearchCV(model, params, cv=kf, scoring='roc_auc', n_jobs=-1)\n",
        "\n",
        "gd_lsvc.fit(train, y)\n",
        "\n",
        "print(\"Tuned hpyerparameters :(best parameters) \",gd_lsvc.best_params_)\n",
        "print(\"ROC_AUC :\",gd_lsvc.best_score_)"
      ],
      "metadata": {
        "id": "uJOVKOyMGsnY",
        "colab": {
          "base_uri": "https://localhost:8080/"
        },
        "outputId": "c2293625-b39b-4597-a678-59d73ba5f315"
      },
      "execution_count": null,
      "outputs": [
        {
          "output_type": "stream",
          "name": "stdout",
          "text": [
            "Tuned hpyerparameters :(best parameters)  {'svc__C': 1}\n",
            "ROC_AUC : 0.7801674456494345\n"
          ]
        }
      ]
    },
    {
      "cell_type": "code",
      "source": [
        "best_lsvc = gd_lsvc.best_estimator_\n",
        "\n",
        "y_score = best_lsvc.predict_proba(train)\n",
        "\n",
        "fpr, tpr, _ = roc_curve(np.array(y), y_score.T[1])\n",
        "roc_display = RocCurveDisplay(fpr=fpr, tpr=tpr).plot()"
      ],
      "metadata": {
        "id": "QKjZayXEcb_M",
        "colab": {
          "base_uri": "https://localhost:8080/",
          "height": 279
        },
        "outputId": "a220b532-aa20-4c3c-ca1f-26983cd7d928"
      },
      "execution_count": null,
      "outputs": [
        {
          "output_type": "display_data",
          "data": {
            "text/plain": [
              "<Figure size 432x288 with 1 Axes>"
            ],
            "image/png": "[encoded data removed]"
          },
          "metadata": {
            "needs_background": "light"
          }
        }
      ]
    },
    {
      "cell_type": "code",
      "source": [
        "scaler = StandardScaler()\n",
        "rbf_svc = SVC(kernel='rbf',probability=True)\n",
        "\n",
        "params = {\n",
        "    'svc__C': range(1, 1000000, 100000)\n",
        "    }\n",
        "\n",
        "model = make_pipeline(\n",
        "    scaler,\n",
        "    rbf_svc\n",
        ")\n",
        "\n",
        "gd_rbf_svc = GridSearchCV(model, params, cv=kf, scoring='roc_auc', n_jobs=-1)\n",
        "\n",
        "gd_rbf_svc.fit(train, y)\n",
        "\n",
        "print(\"Tuned hpyerparameters :(best parameters) \",gd_rbf_svc.best_params_)\n",
        "print(\"ROC_AUC :\",gd_rbf_svc.best_score_)"
      ],
      "metadata": {
        "colab": {
          "base_uri": "https://localhost:8080/"
        },
        "id": "glAWLt9mIg0c",
        "outputId": "bbc1f0e7-e793-4ca0-ac20-68cda55a5ddc"
      },
      "execution_count": null,
      "outputs": [
        {
          "output_type": "stream",
          "name": "stdout",
          "text": [
            "Tuned hpyerparameters :(best parameters)  {'svc__C': 1}\n",
            "ROC_AUC : 0.8455965996681355\n"
          ]
        }
      ]
    },
    {
      "cell_type": "code",
      "source": [
        "best_rbf_svc = gd_rbf_svc.best_estimator_\n",
        "\n",
        "y_score = best_rbf_svc.predict_proba(train)\n",
        "\n",
        "fpr, tpr, _ = roc_curve(np.array(y), y_score.T[1])\n",
        "roc_display = RocCurveDisplay(fpr=fpr, tpr=tpr).plot()"
      ],
      "metadata": {
        "colab": {
          "base_uri": "https://localhost:8080/",
          "height": 279
        },
        "id": "rmOtYoVHS-Au",
        "outputId": "9e1cb5c2-e932-479f-fe04-78632d685f22"
      },
      "execution_count": null,
      "outputs": [
        {
          "output_type": "display_data",
          "data": {
            "text/plain": [
              "<Figure size 432x288 with 1 Axes>"
            ],
            "image/png": "[encoded data removed]"
          },
          "metadata": {
            "needs_background": "light"
          }
        }
      ]
    },
    {
      "cell_type": "markdown",
      "source": [
        "According to ROC AUC score and ROC curve the best model is SVC with kernel RBF."
      ],
      "metadata": {
        "id": "QLt5Xd_LRujy"
      }
    },
    {
      "cell_type": "markdown",
      "metadata": {
        "id": "w_YrykN72tIy"
      },
      "source": [
        "### Task 3\n",
        "\n",
        "* Train a decision tree of maximum depth equal to 5 (with default values of other hyperparameters) and compute F1-score on 5-fold validation.\n",
        "* Compare structure of decision trees trained on different folds. How different trees are?"
      ]
    },
    {
      "cell_type": "code",
      "execution_count": null,
      "metadata": {
        "collapsed": true,
        "id": "5GXqs0xy2tIy"
      },
      "outputs": [],
      "source": [
        "from sklearn.tree import DecisionTreeClassifier, plot_tree"
      ]
    },
    {
      "cell_type": "code",
      "source": [
        "from sklearn.pipeline import make_pipeline"
      ],
      "metadata": {
        "id": "VHnpdmCgT02V"
      },
      "execution_count": null,
      "outputs": []
    },
    {
      "cell_type": "code",
      "source": [
        "import graphviz\n",
        "from sklearn.tree import export_graphviz"
      ],
      "metadata": {
        "id": "OMK55OSwPgwb"
      },
      "execution_count": null,
      "outputs": []
    },
    {
      "cell_type": "code",
      "source": [
        "kf = StratifiedKFold(n_splits=5, random_state=12345, shuffle=True)\n",
        "dtree = DecisionTreeClassifier(max_depth=5)\n",
        "models = []\n",
        "scores = []\n",
        "for train_index, test_index in kf.split(train, y):\n",
        "  dtree.fit(train.iloc[train_index, :], y.iloc[train_index])\n",
        "  preds = dtree.predict(train.iloc[test_index, :])\n",
        "  ky = y.iloc[test_index]\n",
        "  score = metrics.f1_score(ky, preds)\n",
        "  scores.append(score)\n",
        "  models.append(dtree)\n",
        "\n",
        "print(\"F1:\", np.mean(scores))"
      ],
      "metadata": {
        "colab": {
          "base_uri": "https://localhost:8080/"
        },
        "id": "Doa2Ctt8XgGM",
        "outputId": "6c648503-e7f0-4e2b-ff7c-e59a9935fd87"
      },
      "execution_count": null,
      "outputs": [
        {
          "output_type": "stream",
          "name": "stdout",
          "text": [
            "F1: 0.8850410473713005\n"
          ]
        }
      ]
    },
    {
      "cell_type": "code",
      "source": [
        "for i in range(5):\n",
        "  dtree = models[i]\n",
        "  dot_data = export_graphviz(dtree,\n",
        "                                out_file=None,\n",
        "                                feature_names=train.columns,\n",
        "                                class_names=['0', '1'],\n",
        "                                filled=True,\n",
        "                                rounded=True,\n",
        "                                special_characters=True)\n",
        "\n",
        "  graph = graphviz.Source(dot_data)\n",
        "  graph.render(f\"dtree{i}\")"
      ],
      "metadata": {
        "id": "kWNX0IphPhQa"
      },
      "execution_count": null,
      "outputs": []
    },
    {
      "cell_type": "markdown",
      "source": [
        "All trees are the same."
      ],
      "metadata": {
        "id": "doPjfwMHffmQ"
      }
    },
    {
      "cell_type": "markdown",
      "metadata": {
        "id": "Q3oLWSIe2tIy"
      },
      "source": [
        "### Task 4\n",
        "\n",
        "* For Random Forest analyze how the F1-score changes when increasing number of trees (keep other hyperparameters with default values). Perform analysis on 5-fold validation. Visualize the results. How many trees is enough?\n",
        "__NB:__ Also consider configuration analogous to a single decision tree.\n",
        "* Finetune Random Forest hyperparameters on 5-fold validation, use f1-score as a quality metric. Measure time of computations. What are the best values? What's the value of F1-score?\n",
        "* For Random Forest with finetuned hyperparameter values evaluate feature importance. Comment on the results."
      ]
    },
    {
      "cell_type": "code",
      "source": [
        "from sklearn.ensemble import RandomForestClassifier"
      ],
      "metadata": {
        "id": "te7nIyB6g9cR"
      },
      "execution_count": null,
      "outputs": []
    },
    {
      "cell_type": "code",
      "source": [
        "import matplotlib.pyplot as plt"
      ],
      "metadata": {
        "id": "kgnf7BcmjwAr"
      },
      "execution_count": null,
      "outputs": []
    },
    {
      "cell_type": "code",
      "execution_count": null,
      "metadata": {
        "collapsed": true,
        "id": "MoCxANt82tIy",
        "colab": {
          "base_uri": "https://localhost:8080/",
          "height": 364
        },
        "outputId": "c0607990-6556-4ede-e56d-1c91384b8808"
      },
      "outputs": [
        {
          "output_type": "display_data",
          "data": {
            "text/plain": [
              "<Figure size 432x288 with 1 Axes>"
            ],
            "image/png": "[encoded data removed]"
          },
          "metadata": {
            "needs_background": "light"
          }
        }
      ],
      "source": [
        "rfc = RandomForestClassifier()\n",
        "\n",
        "params = {\n",
        "    'n_estimators': range(10, 1000, 100)\n",
        "    }\n",
        "\n",
        "gd_rfc = GridSearchCV(rfc, params, cv=kf, scoring='f1', n_jobs=-1)\n",
        "\n",
        "gd_rfc.fit(train, y)\n",
        "\n",
        "p = gd_rfc.cv_results_['params']\n",
        "s = gd_rfc.cv_results_['mean_test_score']\n",
        "\n",
        "for i in range(len(p)):\n",
        "  p[i] = str(p[i])\n",
        "\n",
        "plt.plot(p, s)\n",
        "plt.xticks(rotation=90)\n",
        "plt.show()"
      ]
    },
    {
      "cell_type": "markdown",
      "source": [
        "200 estimators are enough, because there are approximately the same f1 for greater count."
      ],
      "metadata": {
        "id": "ZLdVTuN5j4_s"
      }
    },
    {
      "cell_type": "code",
      "source": [
        "rfc = RandomForestClassifier()\n",
        "\n",
        "params = {\n",
        "    'n_estimators': range(100, 400, 100),\n",
        "    'criterion': ['gini', 'entropy', 'log_loss'],\n",
        "    'min_samples_split': range(2, 13, 3)\n",
        "    }\n",
        "\n",
        "gd_rfc = GridSearchCV(rfc, params, cv=kf, scoring='f1', n_jobs=-1)\n",
        "\n",
        "gd_rfc.fit(train, y)"
      ],
      "metadata": {
        "colab": {
          "base_uri": "https://localhost:8080/"
        },
        "id": "Mj5FEmBFkQAE",
        "outputId": "ed6b2892-4891-4e2f-b35b-0b0b40acd0cd"
      },
      "execution_count": null,
      "outputs": [
        {
          "output_type": "stream",
          "name": "stderr",
          "text": [
            "/usr/local/lib/python3.8/dist-packages/sklearn/model_selection/_validation.py:372: FitFailedWarning: \n",
            "60 fits failed out of a total of 180.\n",
            "The score on these train-test partitions for these parameters will be set to nan.\n",
            "If these failures are not expected, you can try to debug them by setting error_score='raise'.\n",
            "\n",
            "Below are more details about the failures:\n",
            "--------------------------------------------------------------------------------\n",
            "60 fits failed with the following error:\n",
            "Traceback (most recent call last):\n",
            "  File \"/usr/local/lib/python3.8/dist-packages/sklearn/model_selection/_validation.py\", line 680, in _fit_and_score\n",
            "    estimator.fit(X_train, y_train, **fit_params)\n",
            "  File \"/usr/local/lib/python3.8/dist-packages/sklearn/ensemble/_forest.py\", line 450, in fit\n",
            "    trees = Parallel(\n",
            "  File \"/usr/local/lib/python3.8/dist-packages/joblib/parallel.py\", line 1085, in __call__\n",
            "    if self.dispatch_one_batch(iterator):\n",
            "  File \"/usr/local/lib/python3.8/dist-packages/joblib/parallel.py\", line 901, in dispatch_one_batch\n",
            "    self._dispatch(tasks)\n",
            "  File \"/usr/local/lib/python3.8/dist-packages/joblib/parallel.py\", line 819, in _dispatch\n",
            "    job = self._backend.apply_async(batch, callback=cb)\n",
            "  File \"/usr/local/lib/python3.8/dist-packages/joblib/_parallel_backends.py\", line 208, in apply_async\n",
            "    result = ImmediateResult(func)\n",
            "  File \"/usr/local/lib/python3.8/dist-packages/joblib/_parallel_backends.py\", line 597, in __init__\n",
            "    self.results = batch()\n",
            "  File \"/usr/local/lib/python3.8/dist-packages/joblib/parallel.py\", line 288, in __call__\n",
            "    return [func(*args, **kwargs)\n",
            "  File \"/usr/local/lib/python3.8/dist-packages/joblib/parallel.py\", line 288, in <listcomp>\n",
            "    return [func(*args, **kwargs)\n",
            "  File \"/usr/local/lib/python3.8/dist-packages/sklearn/utils/fixes.py\", line 216, in __call__\n",
            "    return self.function(*args, **kwargs)\n",
            "  File \"/usr/local/lib/python3.8/dist-packages/sklearn/ensemble/_forest.py\", line 185, in _parallel_build_trees\n",
            "    tree.fit(X, y, sample_weight=curr_sample_weight, check_input=False)\n",
            "  File \"/usr/local/lib/python3.8/dist-packages/sklearn/tree/_classes.py\", line 937, in fit\n",
            "    super().fit(\n",
            "  File \"/usr/local/lib/python3.8/dist-packages/sklearn/tree/_classes.py\", line 352, in fit\n",
            "    criterion = CRITERIA_CLF[self.criterion](\n",
            "KeyError: 'log_loss'\n",
            "\n",
            "  warnings.warn(some_fits_failed_message, FitFailedWarning)\n",
            "/usr/local/lib/python3.8/dist-packages/sklearn/model_selection/_search.py:969: UserWarning: One or more of the test scores are non-finite: [0.81422087 0.79495847 0.80998479 0.81678222 0.81993996 0.81362431\n",
            " 0.81993976 0.80736998 0.81153244 0.80632977 0.81719801 0.8174674\n",
            " 0.77318543 0.78527088 0.78372689 0.77693149 0.79174425 0.78246013\n",
            " 0.7821513  0.78338023 0.79041055 0.78906179 0.77925771 0.78523623\n",
            "        nan        nan        nan        nan        nan        nan\n",
            "        nan        nan        nan        nan        nan        nan]\n",
            "  warnings.warn(\n"
          ]
        },
        {
          "output_type": "execute_result",
          "data": {
            "text/plain": [
              "GridSearchCV(cv=StratifiedKFold(n_splits=5, random_state=12345, shuffle=True),\n",
              "             estimator=RandomForestClassifier(), n_jobs=-1,\n",
              "             param_grid={'criterion': ['gini', 'entropy', 'log_loss'],\n",
              "                         'min_samples_split': range(2, 13, 3),\n",
              "                         'n_estimators': range(100, 400, 100)},\n",
              "             scoring='f1')"
            ]
          },
          "metadata": {},
          "execution_count": 197
        }
      ]
    },
    {
      "cell_type": "code",
      "source": [
        "print(\"Tuned hpyerparameters :(best parameters) \",gd_rfc.best_params_)\n",
        "print(\"F1 :\",gd_rfc.best_score_)\n",
        "print(\"Mean fit time :\",gd_rfc.cv_results_['mean_fit_time'].mean())\n",
        "print(\"Mean score time :\",gd_rfc.cv_results_['mean_score_time'].mean())"
      ],
      "metadata": {
        "colab": {
          "base_uri": "https://localhost:8080/"
        },
        "id": "xRKy9yrsk77V",
        "outputId": "8c8d1ee0-a42a-4dbe-8275-ebee6436c6b7"
      },
      "execution_count": null,
      "outputs": [
        {
          "output_type": "stream",
          "name": "stdout",
          "text": [
            "Tuned hpyerparameters :(best parameters)  {'criterion': 'gini', 'min_samples_split': 5, 'n_estimators': 200}\n",
            "F1 : 0.819939960523727\n",
            "Mean fit time : 1.571934258937836\n",
            "Mean score time : 0.057647400432162814\n"
          ]
        }
      ]
    },
    {
      "cell_type": "code",
      "source": [
        "pd.Series(gd_rfc.best_estimator_.feature_importances_,\n",
        "          index=train.columns).sort_values(ascending=False)"
      ],
      "metadata": {
        "colab": {
          "base_uri": "https://localhost:8080/"
        },
        "id": "Xo0pr3OSm5tI",
        "outputId": "d428aa03-6ced-43cd-c444-36844671d74b"
      },
      "execution_count": null,
      "outputs": [
        {
          "output_type": "execute_result",
          "data": {
            "text/plain": [
              "Total charge              0.189424\n",
              "Customer service calls    0.122173\n",
              "Total day charge          0.083835\n",
              "Total day minutes         0.071943\n",
              "Number vmail messages     0.033190\n",
              "                            ...   \n",
              "State__AL                 0.000474\n",
              "State__WY                 0.000471\n",
              "State__IA                 0.000416\n",
              "State__AK                 0.000405\n",
              "State__HI                 0.000205\n",
              "Length: 82, dtype: float64"
            ]
          },
          "metadata": {},
          "execution_count": 204
        }
      ]
    },
    {
      "cell_type": "markdown",
      "source": [
        "Top 5 features that are the most important for RFC are:\n",
        "* Total charge              0.189424\n",
        "*   Customer service calls    0.122173\n",
        "*   Total day charge          0.083835\n",
        "*   Total day minutes         0.071943\n",
        "*   Number vmail messages     0.033190"
      ],
      "metadata": {
        "id": "M6IjSjE-nBye"
      }
    },
    {
      "cell_type": "markdown",
      "metadata": {
        "id": "BgL3J2QR2tIz"
      },
      "source": [
        "### Task 5\n",
        "\n",
        "* Use XGBoost for the task.\n",
        "* Analyze how the F1-score changes when increasing number of trees (keep other hyperparameters with default values). Perform analysis on 5-fold validation. Visualize the results. How many trees is enough?\n",
        "* Finetune XGBoost hyperparameters on 5-fold validation, use f1-score as a quality metric. Measure time of computations. What are the best values? What's the value of F1-score?\n",
        "* For XGBoost with finetuned hyperparameter values evaluate feature importance. Comment on the results."
      ]
    },
    {
      "cell_type": "code",
      "source": [
        "import xgboost as xgb"
      ],
      "metadata": {
        "id": "QlpuK5yin3Hr"
      },
      "execution_count": null,
      "outputs": []
    },
    {
      "cell_type": "code",
      "execution_count": null,
      "metadata": {
        "id": "D5CEqMJy2tIz",
        "colab": {
          "base_uri": "https://localhost:8080/",
          "height": 364
        },
        "outputId": "9a9040d1-f9c2-4e12-9854-41bd16d933a3"
      },
      "outputs": [
        {
          "output_type": "display_data",
          "data": {
            "text/plain": [
              "<Figure size 432x288 with 1 Axes>"
            ],
            "image/png": "[encoded data removed]"
          },
          "metadata": {
            "needs_background": "light"
          }
        }
      ],
      "source": [
        "xgb_model = xgb.XGBClassifier(use_label_encoder=False)\n",
        "\n",
        "params = {\n",
        "    'n_estimators': range(10, 1000, 100)\n",
        "    }\n",
        "\n",
        "gd_xgb = GridSearchCV(xgb_model, params, cv=kf, scoring='f1', n_jobs=-1)\n",
        "\n",
        "gd_xgb.fit(train, y)\n",
        "\n",
        "p = gd_xgb.cv_results_['params']\n",
        "s = gd_xgb.cv_results_['mean_test_score']\n",
        "\n",
        "for i in range(len(p)):\n",
        "  p[i] = str(p[i])\n",
        "\n",
        "plt.plot(p, s)\n",
        "plt.xticks(rotation=90)\n",
        "plt.show()"
      ]
    },
    {
      "cell_type": "markdown",
      "source": [
        "100 estimators are enough."
      ],
      "metadata": {
        "id": "gvCzfCtwo3AT"
      }
    },
    {
      "cell_type": "code",
      "source": [
        "print(\"Tuned hpyerparameters :(best parameters) \",gd_xgb.best_params_)\n",
        "print(\"F1 :\",gd_xgb.best_score_)\n",
        "print(\"Mean fit time :\",gd_xgb.cv_results_['mean_fit_time'].mean())\n",
        "print(\"Mean score time :\",gd_xgb.cv_results_['mean_score_time'].mean())"
      ],
      "metadata": {
        "colab": {
          "base_uri": "https://localhost:8080/"
        },
        "id": "ZvKBLMj6o1pV",
        "outputId": "77dfbc48-1a8e-4eff-f71b-098fde7cfc1d"
      },
      "execution_count": null,
      "outputs": [
        {
          "output_type": "stream",
          "name": "stdout",
          "text": [
            "Tuned hpyerparameters :(best parameters)  {'n_estimators': 310}\n",
            "F1 : 0.8995647116165875\n",
            "Mean fit time : 3.7720817613601683\n",
            "Mean score time : 0.018172593116760255\n"
          ]
        }
      ]
    },
    {
      "cell_type": "code",
      "source": [
        "pd.Series(gd_xgb.best_estimator_.feature_importances_,\n",
        "          index=train.columns).sort_values(ascending=False)"
      ],
      "metadata": {
        "colab": {
          "base_uri": "https://localhost:8080/"
        },
        "id": "x_xt5zrFpFFd",
        "outputId": "57a8fddf-84de-4319-f018-94508b44c670"
      },
      "execution_count": null,
      "outputs": [
        {
          "output_type": "execute_result",
          "data": {
            "text/plain": [
              "Number vmail messages               0.158541\n",
              "Total charge                        0.125697\n",
              "Customer service calls              0.125240\n",
              "Plans__International                0.066794\n",
              "Plans__International, Voice mail    0.051271\n",
              "                                      ...   \n",
              "State__ME                           0.000000\n",
              "State__MN                           0.000000\n",
              "State__MO                           0.000000\n",
              "State__NC                           0.000000\n",
              "Churn_pred                          0.000000\n",
              "Length: 82, dtype: float32"
            ]
          },
          "metadata": {},
          "execution_count": 209
        }
      ]
    },
    {
      "cell_type": "markdown",
      "source": [
        "Top 5 the most important features are slightly different from the RFC."
      ],
      "metadata": {
        "id": "3s926keZpO8b"
      }
    },
    {
      "cell_type": "markdown",
      "metadata": {
        "id": "vqiH8yYJ2tIz"
      },
      "source": [
        "### Task 6\n",
        "\n",
        "* Use Multilayer Perceptron for the problem, tune hyperparameters of the neural network, find the best configuration.\n",
        "* Use no more than 4 layers; for each layer use no more than 100 neurons. Check that the number of parameters in the neural network is less than the volume of the data ($n*m$)\n",
        "* Check the value of loss function against the metric you use for different architectures on test sample. Is it always the case that lower loss = higher metric value?\n",
        "* Fix random_state variable with some integer. Check how many iterations your MLP configuration needs to reach convergence and launch it 100 times, every time with different number of iterations (for example, if convergence reached at 500 iterations, launch MLP with max_iter=5, 10, 15, 20, 25, ..., 495, 500). For each number of iteration calculate metric value on test sample after training. How does the metric behave? Visualize train loss and test metric on the graph."
      ]
    },
    {
      "cell_type": "code",
      "source": [
        "from sklearn.neural_network import MLPClassifier"
      ],
      "metadata": {
        "id": "2XNOZj_6qwMH"
      },
      "execution_count": null,
      "outputs": []
    },
    {
      "cell_type": "code",
      "execution_count": null,
      "metadata": {
        "id": "Rg5axgiT2tIz",
        "colab": {
          "base_uri": "https://localhost:8080/"
        },
        "outputId": "ae2a342a-ddf4-449d-da2e-0506469b4910"
      },
      "outputs": [
        {
          "output_type": "stream",
          "name": "stdout",
          "text": [
            "Tuned hpyerparameters :(best parameters)  {'hidden_layer_sizes': 70, 'max_iter': 100}\n",
            "F1 : 0.45573872138970106\n"
          ]
        },
        {
          "output_type": "stream",
          "name": "stderr",
          "text": [
            "/usr/local/lib/python3.8/dist-packages/sklearn/neural_network/_multilayer_perceptron.py:692: ConvergenceWarning: Stochastic Optimizer: Maximum iterations (100) reached and the optimization hasn't converged yet.\n",
            "  warnings.warn(\n"
          ]
        }
      ],
      "source": [
        "mlp = MLPClassifier()\n",
        "\n",
        "params = {\n",
        "    'hidden_layer_sizes': range(50, 110, 10),\n",
        "    'max_iter': range(100, 250, 50),\n",
        "    }\n",
        "\n",
        "gd_mlp = GridSearchCV(mlp, params, cv=kf, scoring='f1', n_jobs=-1)\n",
        "\n",
        "gd_mlp.fit(train, y)\n",
        "\n",
        "print(\"Tuned hpyerparameters :(best parameters) \",gd_mlp.best_params_)\n",
        "print(\"F1 :\",gd_mlp.best_score_)"
      ]
    },
    {
      "cell_type": "code",
      "source": [
        "gd_mlp.best_estimator_.n_layers_"
      ],
      "metadata": {
        "colab": {
          "base_uri": "https://localhost:8080/"
        },
        "id": "IYaZe6UNurig",
        "outputId": "58e183dd-eb5d-4a9b-b711-ba4ab4130589"
      },
      "execution_count": null,
      "outputs": [
        {
          "output_type": "execute_result",
          "data": {
            "text/plain": [
              "3"
            ]
          },
          "metadata": {},
          "execution_count": 62
        }
      ]
    },
    {
      "cell_type": "code",
      "source": [
        "# volume of data\n",
        "train.shape[0]*train.shape[1]*0.8"
      ],
      "metadata": {
        "colab": {
          "base_uri": "https://localhost:8080/"
        },
        "id": "e4F071ABsa7N",
        "outputId": "ff5bc42a-46b8-4622-b67d-2c4fec66b418"
      },
      "execution_count": null,
      "outputs": [
        {
          "output_type": "execute_result",
          "data": {
            "text/plain": [
              "163934.40000000002"
            ]
          },
          "metadata": {},
          "execution_count": 63
        }
      ]
    },
    {
      "cell_type": "code",
      "source": [
        "# number of parameters\n",
        "train.shape[1]*90 + 90 + 90*2 + 2"
      ],
      "metadata": {
        "colab": {
          "base_uri": "https://localhost:8080/"
        },
        "id": "RBlR5CXsud7v",
        "outputId": "4822b86b-33b6-4073-8b73-b467784b4ec7"
      },
      "execution_count": null,
      "outputs": [
        {
          "output_type": "execute_result",
          "data": {
            "text/plain": [
              "7652"
            ]
          },
          "metadata": {},
          "execution_count": 64
        }
      ]
    },
    {
      "cell_type": "code",
      "source": [
        "from sklearn.model_selection import train_test_split"
      ],
      "metadata": {
        "id": "ZqT2j3takh0e"
      },
      "execution_count": null,
      "outputs": []
    },
    {
      "cell_type": "code",
      "source": [
        "losses=[]\n",
        "scores=[]\n",
        "X_train, X_test, y_train, y_test = train_test_split(train, y, test_size=0.33, random_state=42)\n",
        "\n",
        "for hidden_layer_sizes in range(50, 110, 10):\n",
        "  for max_iter in range(100, 250, 50):\n",
        "    mlp = MLPClassifier(hidden_layer_sizes=hidden_layer_sizes, max_iter=max_iter)\n",
        "    mlp.fit(X_train, y_train)\n",
        "    preds = mlp.predict(X_test)\n",
        "    s = metrics.f1_score(y_test, preds)\n",
        "    scores.append(s)\n",
        "    losses.append(mlp.loss_)"
      ],
      "metadata": {
        "id": "ZLtlxRL4zda6"
      },
      "execution_count": null,
      "outputs": []
    },
    {
      "cell_type": "code",
      "source": [
        "d = {'scores': scores, 'losses': losses}\n",
        "df = pd.DataFrame(data=d).sort_values(by='scores')"
      ],
      "metadata": {
        "id": "T8_xrLhJl-UL"
      },
      "execution_count": null,
      "outputs": []
    },
    {
      "cell_type": "code",
      "source": [
        "plt.plot(df['scores'],df['losses'])\n",
        "plt.xticks(rotation=90)\n",
        "plt.show()"
      ],
      "metadata": {
        "colab": {
          "base_uri": "https://localhost:8080/",
          "height": 278
        },
        "id": "yWBc8rhplTat",
        "outputId": "5ca51986-03ac-48b2-a407-4bb69506c925"
      },
      "execution_count": null,
      "outputs": [
        {
          "output_type": "display_data",
          "data": {
            "text/plain": [
              "<Figure size 432x288 with 1 Axes>"
            ],
            "image/png": "[encoded data removed]"
          },
          "metadata": {
            "needs_background": "light"
          }
        }
      ]
    },
    {
      "cell_type": "markdown",
      "source": [
        "Scores and losses of model could have differend behaviour."
      ],
      "metadata": {
        "id": "dzgO3ig5nnxp"
      }
    },
    {
      "cell_type": "markdown",
      "source": [
        "Fix random_state variable with some integer. Check how many iterations your MLP configuration needs to reach convergence and launch it 100 times, every time with different number of iterations (for example, if convergence reached at 500 iterations, launch MLP with max_iter=5, 10, 15, 20, 25, ..., 495, 500). For each number of iteration calculate metric value on test sample after training. How does the metric behave? Visualize train loss and test metric on the graph."
      ],
      "metadata": {
        "id": "SCDwMjKynzvw"
      }
    },
    {
      "cell_type": "code",
      "source": [
        "model = MLPClassifier(hidden_layer_sizes=70, max_iter=100, random_state=1234)"
      ],
      "metadata": {
        "id": "xAcD5rQJoV4B"
      },
      "execution_count": null,
      "outputs": []
    },
    {
      "cell_type": "code",
      "source": [
        "scores=[]\n",
        "losses=[]\n",
        "X_train, X_test, y_train, y_test = train_test_split(train, y, test_size=0.33, random_state=42)\n",
        "\n",
        "for max_iter in range(1,200,2):\n",
        "  print(max_iter)\n",
        "  mlp = MLPClassifier(hidden_layer_sizes=70, max_iter=max_iter, random_state=1234)\n",
        "  mlp.fit(X_train, y_train)\n",
        "  preds = mlp.predict(X_test)\n",
        "  s = metrics.f1_score(y_test, preds)\n",
        "  scores.append(s)\n",
        "  losses.append(mlp.loss_)\n"
      ],
      "metadata": {
        "id": "nslGL2C_osjq"
      },
      "execution_count": null,
      "outputs": []
    },
    {
      "cell_type": "code",
      "source": [
        "d = {'max_iter':range(1,200,2), 'scores': scores, 'losses': losses}\n",
        "df = pd.DataFrame(data=d).sort_values(by='max_iter')\n",
        "\n",
        "plt.plot(df['max_iter'],df['scores'], label = \"scores\")\n",
        "plt.plot(df['max_iter'],df['losses'], label = \"losses\")\n",
        "plt.xticks(rotation=90)\n",
        "plt.legend()\n",
        "plt.show()"
      ],
      "metadata": {
        "colab": {
          "base_uri": "https://localhost:8080/",
          "height": 274
        },
        "id": "CC56qaCMrAqg",
        "outputId": "5fbf2c26-2e5e-4659-f5d9-98bc9571ee9d"
      },
      "execution_count": null,
      "outputs": [
        {
          "output_type": "display_data",
          "data": {
            "text/plain": [
              "<Figure size 432x288 with 1 Axes>"
            ],
            "image/png": "[encoded data removed]"
          },
          "metadata": {
            "needs_background": "light"
          }
        }
      ]
    },
    {
      "cell_type": "markdown",
      "source": [
        "The convergence is reached after 100 max iterations."
      ],
      "metadata": {
        "id": "3IXcLGXXsNZJ"
      }
    }
  ],
  "metadata": {
    "anaconda-cloud": {},
    "kernelspec": {
      "display_name": "Python 3",
      "language": "python",
      "name": "python3"
    },
    "language_info": {
      "codemirror_mode": {
        "name": "ipython",
        "version": 3
      },
      "file_extension": ".py",
      "mimetype": "text/x-python",
      "name": "python",
      "nbconvert_exporter": "python",
      "pygments_lexer": "ipython3",
      "version": "3.8.5"
    },
    "colab": {
      "provenance": []
    }
  },
  "nbformat": 4,
  "nbformat_minor": 0
}